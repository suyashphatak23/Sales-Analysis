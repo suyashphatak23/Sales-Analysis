{
 "cells": [
  {
   "cell_type": "markdown",
   "metadata": {},
   "source": [
    "# Data Analytics Assesment: Mini-Project\n",
    "\n",
    "**Name: Suyash Phatak<br>\n",
    "PRN: 19070122125**\n",
    "<hr>"
   ]
  },
  {
   "cell_type": "markdown",
   "metadata": {},
   "source": [
    "## Identifying and importing essential libraries"
   ]
  },
  {
   "cell_type": "code",
   "execution_count": 1,
   "metadata": {},
   "outputs": [],
   "source": [
    "import numpy as np\n",
    "import pandas as pd\n",
    "import matplotlib.pyplot as plt\n",
    "from matplotlib import style\n",
    "%matplotlib inline\n",
    "style.use(\"ggplot\")"
   ]
  },
  {
   "cell_type": "markdown",
   "metadata": {},
   "source": [
    "__________________\n",
    "\n",
    "## Data loading and overview"
   ]
  },
  {
   "cell_type": "code",
   "execution_count": 2,
   "metadata": {},
   "outputs": [],
   "source": [
    "# Importing dataset \n",
    "df = pd.read_excel ('superstore.xls')"
   ]
  },
  {
   "cell_type": "code",
   "execution_count": 3,
   "metadata": {},
   "outputs": [
    {
     "name": "stdout",
     "output_type": "stream",
     "text": [
      "   Row ID        Order ID Order Date  Ship Date       Ship Mode Customer ID  \\\n",
      "0       1  CA-2016-152156 2016-11-08 2016-11-11    Second Class    CG-12520   \n",
      "1       2  CA-2016-152156 2016-11-08 2016-11-11    Second Class    CG-12520   \n",
      "2       3  CA-2016-138688 2016-06-12 2016-06-16    Second Class    DV-13045   \n",
      "3       4  US-2015-108966 2015-10-11 2015-10-18  Standard Class    SO-20335   \n",
      "4       5  US-2015-108966 2015-10-11 2015-10-18  Standard Class    SO-20335   \n",
      "\n",
      "     Customer Name    Segment        Country             City  ...  \\\n",
      "0      Claire Gute   Consumer  United States        Henderson  ...   \n",
      "1      Claire Gute   Consumer  United States        Henderson  ...   \n",
      "2  Darrin Van Huff  Corporate  United States      Los Angeles  ...   \n",
      "3   Sean O'Donnell   Consumer  United States  Fort Lauderdale  ...   \n",
      "4   Sean O'Donnell   Consumer  United States  Fort Lauderdale  ...   \n",
      "\n",
      "  Postal Code  Region       Product ID         Category Sub-Category  \\\n",
      "0       42420   South  FUR-BO-10001798        Furniture    Bookcases   \n",
      "1       42420   South  FUR-CH-10000454        Furniture       Chairs   \n",
      "2       90036    West  OFF-LA-10000240  Office Supplies       Labels   \n",
      "3       33311   South  FUR-TA-10000577        Furniture       Tables   \n",
      "4       33311   South  OFF-ST-10000760  Office Supplies      Storage   \n",
      "\n",
      "                                        Product Name     Sales  Quantity  \\\n",
      "0                  Bush Somerset Collection Bookcase  261.9600         2   \n",
      "1  Hon Deluxe Fabric Upholstered Stacking Chairs,...  731.9400         3   \n",
      "2  Self-Adhesive Address Labels for Typewriters b...   14.6200         2   \n",
      "3      Bretford CR4500 Series Slim Rectangular Table  957.5775         5   \n",
      "4                     Eldon Fold 'N Roll Cart System   22.3680         2   \n",
      "\n",
      "   Discount    Profit  \n",
      "0      0.00   41.9136  \n",
      "1      0.00  219.5820  \n",
      "2      0.00    6.8714  \n",
      "3      0.45 -383.0310  \n",
      "4      0.20    2.5164  \n",
      "\n",
      "[5 rows x 21 columns]\n"
     ]
    }
   ],
   "source": [
    "# Printing first 5 records\n",
    "print(df.head(5))"
   ]
  },
  {
   "cell_type": "code",
   "execution_count": 4,
   "metadata": {},
   "outputs": [
    {
     "data": {
      "text/plain": [
       "Index(['Row ID', 'Order ID', 'Order Date', 'Ship Date', 'Ship Mode',\n",
       "       'Customer ID', 'Customer Name', 'Segment', 'Country', 'City', 'State',\n",
       "       'Postal Code', 'Region', 'Product ID', 'Category', 'Sub-Category',\n",
       "       'Product Name', 'Sales', 'Quantity', 'Discount', 'Profit'],\n",
       "      dtype='object')"
      ]
     },
     "execution_count": 4,
     "metadata": {},
     "output_type": "execute_result"
    }
   ],
   "source": [
    "# Printing the columns contained in data\n",
    "df.columns"
   ]
  },
  {
   "cell_type": "code",
   "execution_count": 5,
   "metadata": {},
   "outputs": [
    {
     "name": "stdout",
     "output_type": "stream",
     "text": [
      "count     9994.000000\n",
      "mean       229.858001\n",
      "std        623.245101\n",
      "min          0.444000\n",
      "25%         17.280000\n",
      "50%         54.490000\n",
      "75%        209.940000\n",
      "max      22638.480000\n",
      "Name: Sales, dtype: float64\n",
      "\n",
      "\n",
      "count    9994.000000\n",
      "mean        3.789574\n",
      "std         2.225110\n",
      "min         1.000000\n",
      "25%         2.000000\n",
      "50%         3.000000\n",
      "75%         5.000000\n",
      "max        14.000000\n",
      "Name: Quantity, dtype: float64\n",
      "\n",
      "\n",
      "count    9994.000000\n",
      "mean        0.156203\n",
      "std         0.206452\n",
      "min         0.000000\n",
      "25%         0.000000\n",
      "50%         0.200000\n",
      "75%         0.200000\n",
      "max         0.800000\n",
      "Name: Discount, dtype: float64\n",
      "\n",
      "\n",
      "count    9994.000000\n",
      "mean       28.656896\n",
      "std       234.260108\n",
      "min     -6599.978000\n",
      "25%         1.728750\n",
      "50%         8.666500\n",
      "75%        29.364000\n",
      "max      8399.976000\n",
      "Name: Profit, dtype: float64\n",
      "\n",
      "\n"
     ]
    }
   ],
   "source": [
    "# Printing standard deviation, count, mean, max, min\n",
    "column_list = list(df.columns)\n",
    "for col in column_list[17:]:\n",
    "    print(df[col].describe())\n",
    "    print(\"\\n\")"
   ]
  },
  {
   "cell_type": "code",
   "execution_count": 6,
   "metadata": {},
   "outputs": [
    {
     "data": {
      "text/plain": [
       "Row ID           0\n",
       "Order ID         0\n",
       "Order Date       0\n",
       "Ship Date        0\n",
       "Ship Mode        0\n",
       "Customer ID      0\n",
       "Customer Name    0\n",
       "Segment          0\n",
       "Country          0\n",
       "City             0\n",
       "State            0\n",
       "Postal Code      0\n",
       "Region           0\n",
       "Product ID       0\n",
       "Category         0\n",
       "Sub-Category     0\n",
       "Product Name     0\n",
       "Sales            0\n",
       "Quantity         0\n",
       "Discount         0\n",
       "Profit           0\n",
       "dtype: int64"
      ]
     },
     "execution_count": 6,
     "metadata": {},
     "output_type": "execute_result"
    }
   ],
   "source": [
    "# Finding Missing Values\n",
    "df.isna().sum()"
   ]
  },
  {
   "cell_type": "markdown",
   "metadata": {},
   "source": [
    "_____________________\n",
    "\n",
    "## Calculating per unit price"
   ]
  },
  {
   "cell_type": "code",
   "execution_count": 7,
   "metadata": {},
   "outputs": [],
   "source": [
    "# Converting datetime field into pandas time object\n",
    "import datetime as dt\n",
    "df['Order Date'] = pd.to_datetime(df['Order Date'])\n",
    "df['Ship Date'] = pd.to_datetime(df['Ship Date'])"
   ]
  },
  {
   "cell_type": "code",
   "execution_count": 8,
   "metadata": {},
   "outputs": [],
   "source": [
    "# Calculating unit per price and adding a column in dataset\n",
    "price_per_unit = df[\"Sales\"] / df[\"Quantity\"]\n",
    "df[\"Price/Unit\"] = price_per_unit"
   ]
  },
  {
   "cell_type": "code",
   "execution_count": 10,
   "metadata": {},
   "outputs": [
    {
     "data": {
      "text/html": [
       "<div>\n",
       "<style scoped>\n",
       "    .dataframe tbody tr th:only-of-type {\n",
       "        vertical-align: middle;\n",
       "    }\n",
       "\n",
       "    .dataframe tbody tr th {\n",
       "        vertical-align: top;\n",
       "    }\n",
       "\n",
       "    .dataframe thead th {\n",
       "        text-align: right;\n",
       "    }\n",
       "</style>\n",
       "<table border=\"1\" class=\"dataframe\">\n",
       "  <thead>\n",
       "    <tr style=\"text-align: right;\">\n",
       "      <th></th>\n",
       "      <th>Row ID</th>\n",
       "      <th>Order ID</th>\n",
       "      <th>Order Date</th>\n",
       "      <th>Ship Date</th>\n",
       "      <th>Ship Mode</th>\n",
       "      <th>Customer ID</th>\n",
       "      <th>Customer Name</th>\n",
       "      <th>Segment</th>\n",
       "      <th>Country</th>\n",
       "      <th>City</th>\n",
       "      <th>...</th>\n",
       "      <th>Region</th>\n",
       "      <th>Product ID</th>\n",
       "      <th>Category</th>\n",
       "      <th>Sub-Category</th>\n",
       "      <th>Product Name</th>\n",
       "      <th>Sales</th>\n",
       "      <th>Quantity</th>\n",
       "      <th>Discount</th>\n",
       "      <th>Profit</th>\n",
       "      <th>Price/Unit</th>\n",
       "    </tr>\n",
       "  </thead>\n",
       "  <tbody>\n",
       "    <tr>\n",
       "      <th>0</th>\n",
       "      <td>1</td>\n",
       "      <td>CA-2016-152156</td>\n",
       "      <td>2016-11-08</td>\n",
       "      <td>2016-11-11</td>\n",
       "      <td>Second Class</td>\n",
       "      <td>CG-12520</td>\n",
       "      <td>Claire Gute</td>\n",
       "      <td>Consumer</td>\n",
       "      <td>United States</td>\n",
       "      <td>Henderson</td>\n",
       "      <td>...</td>\n",
       "      <td>South</td>\n",
       "      <td>FUR-BO-10001798</td>\n",
       "      <td>Furniture</td>\n",
       "      <td>Bookcases</td>\n",
       "      <td>Bush Somerset Collection Bookcase</td>\n",
       "      <td>261.9600</td>\n",
       "      <td>2</td>\n",
       "      <td>0.00</td>\n",
       "      <td>41.9136</td>\n",
       "      <td>130.9800</td>\n",
       "    </tr>\n",
       "    <tr>\n",
       "      <th>1</th>\n",
       "      <td>2</td>\n",
       "      <td>CA-2016-152156</td>\n",
       "      <td>2016-11-08</td>\n",
       "      <td>2016-11-11</td>\n",
       "      <td>Second Class</td>\n",
       "      <td>CG-12520</td>\n",
       "      <td>Claire Gute</td>\n",
       "      <td>Consumer</td>\n",
       "      <td>United States</td>\n",
       "      <td>Henderson</td>\n",
       "      <td>...</td>\n",
       "      <td>South</td>\n",
       "      <td>FUR-CH-10000454</td>\n",
       "      <td>Furniture</td>\n",
       "      <td>Chairs</td>\n",
       "      <td>Hon Deluxe Fabric Upholstered Stacking Chairs,...</td>\n",
       "      <td>731.9400</td>\n",
       "      <td>3</td>\n",
       "      <td>0.00</td>\n",
       "      <td>219.5820</td>\n",
       "      <td>243.9800</td>\n",
       "    </tr>\n",
       "    <tr>\n",
       "      <th>2</th>\n",
       "      <td>3</td>\n",
       "      <td>CA-2016-138688</td>\n",
       "      <td>2016-06-12</td>\n",
       "      <td>2016-06-16</td>\n",
       "      <td>Second Class</td>\n",
       "      <td>DV-13045</td>\n",
       "      <td>Darrin Van Huff</td>\n",
       "      <td>Corporate</td>\n",
       "      <td>United States</td>\n",
       "      <td>Los Angeles</td>\n",
       "      <td>...</td>\n",
       "      <td>West</td>\n",
       "      <td>OFF-LA-10000240</td>\n",
       "      <td>Office Supplies</td>\n",
       "      <td>Labels</td>\n",
       "      <td>Self-Adhesive Address Labels for Typewriters b...</td>\n",
       "      <td>14.6200</td>\n",
       "      <td>2</td>\n",
       "      <td>0.00</td>\n",
       "      <td>6.8714</td>\n",
       "      <td>7.3100</td>\n",
       "    </tr>\n",
       "    <tr>\n",
       "      <th>3</th>\n",
       "      <td>4</td>\n",
       "      <td>US-2015-108966</td>\n",
       "      <td>2015-10-11</td>\n",
       "      <td>2015-10-18</td>\n",
       "      <td>Standard Class</td>\n",
       "      <td>SO-20335</td>\n",
       "      <td>Sean O'Donnell</td>\n",
       "      <td>Consumer</td>\n",
       "      <td>United States</td>\n",
       "      <td>Fort Lauderdale</td>\n",
       "      <td>...</td>\n",
       "      <td>South</td>\n",
       "      <td>FUR-TA-10000577</td>\n",
       "      <td>Furniture</td>\n",
       "      <td>Tables</td>\n",
       "      <td>Bretford CR4500 Series Slim Rectangular Table</td>\n",
       "      <td>957.5775</td>\n",
       "      <td>5</td>\n",
       "      <td>0.45</td>\n",
       "      <td>-383.0310</td>\n",
       "      <td>191.5155</td>\n",
       "    </tr>\n",
       "    <tr>\n",
       "      <th>4</th>\n",
       "      <td>5</td>\n",
       "      <td>US-2015-108966</td>\n",
       "      <td>2015-10-11</td>\n",
       "      <td>2015-10-18</td>\n",
       "      <td>Standard Class</td>\n",
       "      <td>SO-20335</td>\n",
       "      <td>Sean O'Donnell</td>\n",
       "      <td>Consumer</td>\n",
       "      <td>United States</td>\n",
       "      <td>Fort Lauderdale</td>\n",
       "      <td>...</td>\n",
       "      <td>South</td>\n",
       "      <td>OFF-ST-10000760</td>\n",
       "      <td>Office Supplies</td>\n",
       "      <td>Storage</td>\n",
       "      <td>Eldon Fold 'N Roll Cart System</td>\n",
       "      <td>22.3680</td>\n",
       "      <td>2</td>\n",
       "      <td>0.20</td>\n",
       "      <td>2.5164</td>\n",
       "      <td>11.1840</td>\n",
       "    </tr>\n",
       "  </tbody>\n",
       "</table>\n",
       "<p>5 rows × 22 columns</p>\n",
       "</div>"
      ],
      "text/plain": [
       "   Row ID        Order ID Order Date  Ship Date       Ship Mode Customer ID  \\\n",
       "0       1  CA-2016-152156 2016-11-08 2016-11-11    Second Class    CG-12520   \n",
       "1       2  CA-2016-152156 2016-11-08 2016-11-11    Second Class    CG-12520   \n",
       "2       3  CA-2016-138688 2016-06-12 2016-06-16    Second Class    DV-13045   \n",
       "3       4  US-2015-108966 2015-10-11 2015-10-18  Standard Class    SO-20335   \n",
       "4       5  US-2015-108966 2015-10-11 2015-10-18  Standard Class    SO-20335   \n",
       "\n",
       "     Customer Name    Segment        Country             City  ... Region  \\\n",
       "0      Claire Gute   Consumer  United States        Henderson  ...  South   \n",
       "1      Claire Gute   Consumer  United States        Henderson  ...  South   \n",
       "2  Darrin Van Huff  Corporate  United States      Los Angeles  ...   West   \n",
       "3   Sean O'Donnell   Consumer  United States  Fort Lauderdale  ...  South   \n",
       "4   Sean O'Donnell   Consumer  United States  Fort Lauderdale  ...  South   \n",
       "\n",
       "        Product ID         Category Sub-Category  \\\n",
       "0  FUR-BO-10001798        Furniture    Bookcases   \n",
       "1  FUR-CH-10000454        Furniture       Chairs   \n",
       "2  OFF-LA-10000240  Office Supplies       Labels   \n",
       "3  FUR-TA-10000577        Furniture       Tables   \n",
       "4  OFF-ST-10000760  Office Supplies      Storage   \n",
       "\n",
       "                                        Product Name     Sales Quantity  \\\n",
       "0                  Bush Somerset Collection Bookcase  261.9600        2   \n",
       "1  Hon Deluxe Fabric Upholstered Stacking Chairs,...  731.9400        3   \n",
       "2  Self-Adhesive Address Labels for Typewriters b...   14.6200        2   \n",
       "3      Bretford CR4500 Series Slim Rectangular Table  957.5775        5   \n",
       "4                     Eldon Fold 'N Roll Cart System   22.3680        2   \n",
       "\n",
       "   Discount    Profit  Price/Unit  \n",
       "0      0.00   41.9136    130.9800  \n",
       "1      0.00  219.5820    243.9800  \n",
       "2      0.00    6.8714      7.3100  \n",
       "3      0.45 -383.0310    191.5155  \n",
       "4      0.20    2.5164     11.1840  \n",
       "\n",
       "[5 rows x 22 columns]"
      ]
     },
     "execution_count": 10,
     "metadata": {},
     "output_type": "execute_result"
    }
   ],
   "source": [
    "df.head()"
   ]
  },
  {
   "cell_type": "markdown",
   "metadata": {},
   "source": [
    "____________________\n",
    "\n",
    "## Finding out the monthly revenue and analyze the findings"
   ]
  },
  {
   "cell_type": "code",
   "execution_count": 11,
   "metadata": {},
   "outputs": [],
   "source": [
    "# Creating column with year and month\n",
    "df['month_year'] = df['Order Date'].dt.to_period('M')"
   ]
  },
  {
   "cell_type": "code",
   "execution_count": 14,
   "metadata": {},
   "outputs": [
    {
     "data": {
      "text/html": [
       "<div>\n",
       "<style scoped>\n",
       "    .dataframe tbody tr th:only-of-type {\n",
       "        vertical-align: middle;\n",
       "    }\n",
       "\n",
       "    .dataframe tbody tr th {\n",
       "        vertical-align: top;\n",
       "    }\n",
       "\n",
       "    .dataframe thead th {\n",
       "        text-align: right;\n",
       "    }\n",
       "</style>\n",
       "<table border=\"1\" class=\"dataframe\">\n",
       "  <thead>\n",
       "    <tr style=\"text-align: right;\">\n",
       "      <th></th>\n",
       "      <th>Sales</th>\n",
       "    </tr>\n",
       "    <tr>\n",
       "      <th>month_year</th>\n",
       "      <th></th>\n",
       "    </tr>\n",
       "  </thead>\n",
       "  <tbody>\n",
       "    <tr>\n",
       "      <th>2014 : April</th>\n",
       "      <td>28295.3450</td>\n",
       "    </tr>\n",
       "    <tr>\n",
       "      <th>2014 : August</th>\n",
       "      <td>27909.4685</td>\n",
       "    </tr>\n",
       "    <tr>\n",
       "      <th>2014 : December</th>\n",
       "      <td>69545.6205</td>\n",
       "    </tr>\n",
       "    <tr>\n",
       "      <th>2014 : February</th>\n",
       "      <td>4519.8920</td>\n",
       "    </tr>\n",
       "    <tr>\n",
       "      <th>2014 : January</th>\n",
       "      <td>14236.8950</td>\n",
       "    </tr>\n",
       "    <tr>\n",
       "      <th>2014 : July</th>\n",
       "      <td>33946.3930</td>\n",
       "    </tr>\n",
       "    <tr>\n",
       "      <th>2014 : June</th>\n",
       "      <td>34595.1276</td>\n",
       "    </tr>\n",
       "    <tr>\n",
       "      <th>2014 : March</th>\n",
       "      <td>55691.0090</td>\n",
       "    </tr>\n",
       "    <tr>\n",
       "      <th>2014 : May</th>\n",
       "      <td>23648.2870</td>\n",
       "    </tr>\n",
       "    <tr>\n",
       "      <th>2014 : November</th>\n",
       "      <td>78628.7167</td>\n",
       "    </tr>\n",
       "    <tr>\n",
       "      <th>2014 : October</th>\n",
       "      <td>31453.3930</td>\n",
       "    </tr>\n",
       "    <tr>\n",
       "      <th>2014 : September</th>\n",
       "      <td>81777.3508</td>\n",
       "    </tr>\n",
       "    <tr>\n",
       "      <th>2015 : April</th>\n",
       "      <td>34195.2085</td>\n",
       "    </tr>\n",
       "    <tr>\n",
       "      <th>2015 : August</th>\n",
       "      <td>36898.3322</td>\n",
       "    </tr>\n",
       "    <tr>\n",
       "      <th>2015 : December</th>\n",
       "      <td>74919.5212</td>\n",
       "    </tr>\n",
       "    <tr>\n",
       "      <th>2015 : February</th>\n",
       "      <td>11951.4110</td>\n",
       "    </tr>\n",
       "    <tr>\n",
       "      <th>2015 : January</th>\n",
       "      <td>18174.0756</td>\n",
       "    </tr>\n",
       "    <tr>\n",
       "      <th>2015 : July</th>\n",
       "      <td>28765.3250</td>\n",
       "    </tr>\n",
       "    <tr>\n",
       "      <th>2015 : June</th>\n",
       "      <td>24797.2920</td>\n",
       "    </tr>\n",
       "    <tr>\n",
       "      <th>2015 : March</th>\n",
       "      <td>38726.2520</td>\n",
       "    </tr>\n",
       "    <tr>\n",
       "      <th>2015 : May</th>\n",
       "      <td>30131.6865</td>\n",
       "    </tr>\n",
       "    <tr>\n",
       "      <th>2015 : November</th>\n",
       "      <td>75972.5635</td>\n",
       "    </tr>\n",
       "    <tr>\n",
       "      <th>2015 : October</th>\n",
       "      <td>31404.9235</td>\n",
       "    </tr>\n",
       "    <tr>\n",
       "      <th>2015 : September</th>\n",
       "      <td>64595.9180</td>\n",
       "    </tr>\n",
       "    <tr>\n",
       "      <th>2016 : April</th>\n",
       "      <td>38750.0390</td>\n",
       "    </tr>\n",
       "    <tr>\n",
       "      <th>2016 : August</th>\n",
       "      <td>31115.3743</td>\n",
       "    </tr>\n",
       "    <tr>\n",
       "      <th>2016 : December</th>\n",
       "      <td>96999.0430</td>\n",
       "    </tr>\n",
       "    <tr>\n",
       "      <th>2016 : February</th>\n",
       "      <td>22978.8150</td>\n",
       "    </tr>\n",
       "    <tr>\n",
       "      <th>2016 : January</th>\n",
       "      <td>18542.4910</td>\n",
       "    </tr>\n",
       "    <tr>\n",
       "      <th>2016 : July</th>\n",
       "      <td>39261.9630</td>\n",
       "    </tr>\n",
       "    <tr>\n",
       "      <th>2016 : June</th>\n",
       "      <td>40344.5340</td>\n",
       "    </tr>\n",
       "    <tr>\n",
       "      <th>2016 : March</th>\n",
       "      <td>51715.8750</td>\n",
       "    </tr>\n",
       "    <tr>\n",
       "      <th>2016 : May</th>\n",
       "      <td>56987.7280</td>\n",
       "    </tr>\n",
       "    <tr>\n",
       "      <th>2016 : November</th>\n",
       "      <td>79411.9658</td>\n",
       "    </tr>\n",
       "    <tr>\n",
       "      <th>2016 : October</th>\n",
       "      <td>59687.7450</td>\n",
       "    </tr>\n",
       "    <tr>\n",
       "      <th>2016 : September</th>\n",
       "      <td>73410.0249</td>\n",
       "    </tr>\n",
       "    <tr>\n",
       "      <th>2017 : April</th>\n",
       "      <td>36521.5361</td>\n",
       "    </tr>\n",
       "    <tr>\n",
       "      <th>2017 : August</th>\n",
       "      <td>63120.8880</td>\n",
       "    </tr>\n",
       "    <tr>\n",
       "      <th>2017 : December</th>\n",
       "      <td>83829.3188</td>\n",
       "    </tr>\n",
       "    <tr>\n",
       "      <th>2017 : February</th>\n",
       "      <td>20301.1334</td>\n",
       "    </tr>\n",
       "    <tr>\n",
       "      <th>2017 : January</th>\n",
       "      <td>43971.3740</td>\n",
       "    </tr>\n",
       "    <tr>\n",
       "      <th>2017 : July</th>\n",
       "      <td>45264.4160</td>\n",
       "    </tr>\n",
       "    <tr>\n",
       "      <th>2017 : June</th>\n",
       "      <td>52981.7257</td>\n",
       "    </tr>\n",
       "    <tr>\n",
       "      <th>2017 : March</th>\n",
       "      <td>58872.3528</td>\n",
       "    </tr>\n",
       "    <tr>\n",
       "      <th>2017 : May</th>\n",
       "      <td>44261.1102</td>\n",
       "    </tr>\n",
       "    <tr>\n",
       "      <th>2017 : November</th>\n",
       "      <td>118447.8250</td>\n",
       "    </tr>\n",
       "    <tr>\n",
       "      <th>2017 : October</th>\n",
       "      <td>77776.9232</td>\n",
       "    </tr>\n",
       "    <tr>\n",
       "      <th>2017 : September</th>\n",
       "      <td>87866.6520</td>\n",
       "    </tr>\n",
       "  </tbody>\n",
       "</table>\n",
       "</div>"
      ],
      "text/plain": [
       "                        Sales\n",
       "month_year                   \n",
       "2014 : April       28295.3450\n",
       "2014 : August      27909.4685\n",
       "2014 : December    69545.6205\n",
       "2014 : February     4519.8920\n",
       "2014 : January     14236.8950\n",
       "2014 : July        33946.3930\n",
       "2014 : June        34595.1276\n",
       "2014 : March       55691.0090\n",
       "2014 : May         23648.2870\n",
       "2014 : November    78628.7167\n",
       "2014 : October     31453.3930\n",
       "2014 : September   81777.3508\n",
       "2015 : April       34195.2085\n",
       "2015 : August      36898.3322\n",
       "2015 : December    74919.5212\n",
       "2015 : February    11951.4110\n",
       "2015 : January     18174.0756\n",
       "2015 : July        28765.3250\n",
       "2015 : June        24797.2920\n",
       "2015 : March       38726.2520\n",
       "2015 : May         30131.6865\n",
       "2015 : November    75972.5635\n",
       "2015 : October     31404.9235\n",
       "2015 : September   64595.9180\n",
       "2016 : April       38750.0390\n",
       "2016 : August      31115.3743\n",
       "2016 : December    96999.0430\n",
       "2016 : February    22978.8150\n",
       "2016 : January     18542.4910\n",
       "2016 : July        39261.9630\n",
       "2016 : June        40344.5340\n",
       "2016 : March       51715.8750\n",
       "2016 : May         56987.7280\n",
       "2016 : November    79411.9658\n",
       "2016 : October     59687.7450\n",
       "2016 : September   73410.0249\n",
       "2017 : April       36521.5361\n",
       "2017 : August      63120.8880\n",
       "2017 : December    83829.3188\n",
       "2017 : February    20301.1334\n",
       "2017 : January     43971.3740\n",
       "2017 : July        45264.4160\n",
       "2017 : June        52981.7257\n",
       "2017 : March       58872.3528\n",
       "2017 : May         44261.1102\n",
       "2017 : November   118447.8250\n",
       "2017 : October     77776.9232\n",
       "2017 : September   87866.6520"
      ]
     },
     "execution_count": 14,
     "metadata": {},
     "output_type": "execute_result"
    }
   ],
   "source": [
    "# Creating new dataframe add adding specific columns \n",
    "monthly_revenue = pd.DataFrame(df.groupby(df['month_year'].dt.strftime('%Y : %B'))['Sales'].sum())\n",
    "monthly_revenue"
   ]
  },
  {
   "cell_type": "code",
   "execution_count": 15,
   "metadata": {},
   "outputs": [
    {
     "data": {
      "image/png": "[encoded data removed]",
      "text/plain": [
       "<Figure size 432x288 with 1 Axes>"
      ]
     },
     "metadata": {},
     "output_type": "display_data"
    }
   ],
   "source": [
    "# Plotting the dataset\n",
    "plt.title('Monthly Revenue')\n",
    "plt.xlabel('Month Name')\n",
    "plt.ylabel('Sales')\n",
    "plt.plot(monthly_revenue, 'r')\n",
    "plt.show()"
   ]
  },
  {
   "cell_type": "code",
   "execution_count": 16,
   "metadata": {},
   "outputs": [
    {
     "data": {
      "text/html": [
       "<div>\n",
       "<style scoped>\n",
       "    .dataframe tbody tr th:only-of-type {\n",
       "        vertical-align: middle;\n",
       "    }\n",
       "\n",
       "    .dataframe tbody tr th {\n",
       "        vertical-align: top;\n",
       "    }\n",
       "\n",
       "    .dataframe thead th {\n",
       "        text-align: right;\n",
       "    }\n",
       "</style>\n",
       "<table border=\"1\" class=\"dataframe\">\n",
       "  <thead>\n",
       "    <tr style=\"text-align: right;\">\n",
       "      <th></th>\n",
       "      <th>Sales</th>\n",
       "    </tr>\n",
       "  </thead>\n",
       "  <tbody>\n",
       "    <tr>\n",
       "      <th>count</th>\n",
       "      <td>48.000000</td>\n",
       "    </tr>\n",
       "    <tr>\n",
       "      <th>mean</th>\n",
       "      <td>47858.351256</td>\n",
       "    </tr>\n",
       "    <tr>\n",
       "      <th>std</th>\n",
       "      <td>25195.890700</td>\n",
       "    </tr>\n",
       "    <tr>\n",
       "      <th>min</th>\n",
       "      <td>4519.892000</td>\n",
       "    </tr>\n",
       "    <tr>\n",
       "      <th>25%</th>\n",
       "      <td>29790.096125</td>\n",
       "    </tr>\n",
       "    <tr>\n",
       "      <th>50%</th>\n",
       "      <td>39803.248500</td>\n",
       "    </tr>\n",
       "    <tr>\n",
       "      <th>75%</th>\n",
       "      <td>65833.343625</td>\n",
       "    </tr>\n",
       "    <tr>\n",
       "      <th>max</th>\n",
       "      <td>118447.825000</td>\n",
       "    </tr>\n",
       "  </tbody>\n",
       "</table>\n",
       "</div>"
      ],
      "text/plain": [
       "               Sales\n",
       "count      48.000000\n",
       "mean    47858.351256\n",
       "std     25195.890700\n",
       "min      4519.892000\n",
       "25%     29790.096125\n",
       "50%     39803.248500\n",
       "75%     65833.343625\n",
       "max    118447.825000"
      ]
     },
     "execution_count": 16,
     "metadata": {},
     "output_type": "execute_result"
    }
   ],
   "source": [
    "# Describing the dataset\n",
    "mothly_revenue.describe()"
   ]
  },
  {
   "cell_type": "markdown",
   "metadata": {},
   "source": [
    "__________________________________\n",
    "\n",
    "## Finding out the yearly revenue and analyze the findings"
   ]
  },
  {
   "cell_type": "code",
   "execution_count": 17,
   "metadata": {},
   "outputs": [
    {
     "data": {
      "text/html": [
       "<div>\n",
       "<style scoped>\n",
       "    .dataframe tbody tr th:only-of-type {\n",
       "        vertical-align: middle;\n",
       "    }\n",
       "\n",
       "    .dataframe tbody tr th {\n",
       "        vertical-align: top;\n",
       "    }\n",
       "\n",
       "    .dataframe thead th {\n",
       "        text-align: right;\n",
       "    }\n",
       "</style>\n",
       "<table border=\"1\" class=\"dataframe\">\n",
       "  <thead>\n",
       "    <tr style=\"text-align: right;\">\n",
       "      <th></th>\n",
       "      <th>Sales</th>\n",
       "    </tr>\n",
       "    <tr>\n",
       "      <th>month_year</th>\n",
       "      <th></th>\n",
       "    </tr>\n",
       "  </thead>\n",
       "  <tbody>\n",
       "    <tr>\n",
       "      <th>2014</th>\n",
       "      <td>484247.4981</td>\n",
       "    </tr>\n",
       "    <tr>\n",
       "      <th>2015</th>\n",
       "      <td>470532.5090</td>\n",
       "    </tr>\n",
       "    <tr>\n",
       "      <th>2016</th>\n",
       "      <td>609205.5980</td>\n",
       "    </tr>\n",
       "    <tr>\n",
       "      <th>2017</th>\n",
       "      <td>733215.2552</td>\n",
       "    </tr>\n",
       "  </tbody>\n",
       "</table>\n",
       "</div>"
      ],
      "text/plain": [
       "                  Sales\n",
       "month_year             \n",
       "2014        484247.4981\n",
       "2015        470532.5090\n",
       "2016        609205.5980\n",
       "2017        733215.2552"
      ]
     },
     "execution_count": 17,
     "metadata": {},
     "output_type": "execute_result"
    }
   ],
   "source": [
    "# Creating new dataframe yearly\n",
    "yearly_revenue = pd.DataFrame(df.groupby(df['month_year'].dt.strftime('%Y'))['Sales'].sum())\n",
    "yearly_revenue"
   ]
  },
  {
   "cell_type": "code",
   "execution_count": 19,
   "metadata": {},
   "outputs": [
    {
     "data": {
      "image/png": "[encoded data removed]",
      "text/plain": [
       "<Figure size 432x288 with 1 Axes>"
      ]
     },
     "metadata": {},
     "output_type": "display_data"
    }
   ],
   "source": [
    "# Plotting the dataframe\n",
    "plt.title('Yearly Revenue')\n",
    "plt.xlabel('Year')\n",
    "plt.ylabel('Sales')\n",
    "plt.plot(yearly_revenue, 'g')\n",
    "plt.show()"
   ]
  },
  {
   "cell_type": "code",
   "execution_count": 20,
   "metadata": {},
   "outputs": [
    {
     "data": {
      "text/html": [
       "<div>\n",
       "<style scoped>\n",
       "    .dataframe tbody tr th:only-of-type {\n",
       "        vertical-align: middle;\n",
       "    }\n",
       "\n",
       "    .dataframe tbody tr th {\n",
       "        vertical-align: top;\n",
       "    }\n",
       "\n",
       "    .dataframe thead th {\n",
       "        text-align: right;\n",
       "    }\n",
       "</style>\n",
       "<table border=\"1\" class=\"dataframe\">\n",
       "  <thead>\n",
       "    <tr style=\"text-align: right;\">\n",
       "      <th></th>\n",
       "      <th>Sales</th>\n",
       "    </tr>\n",
       "  </thead>\n",
       "  <tbody>\n",
       "    <tr>\n",
       "      <th>count</th>\n",
       "      <td>4.000000</td>\n",
       "    </tr>\n",
       "    <tr>\n",
       "      <th>mean</th>\n",
       "      <td>574300.215075</td>\n",
       "    </tr>\n",
       "    <tr>\n",
       "      <th>std</th>\n",
       "      <td>122949.318005</td>\n",
       "    </tr>\n",
       "    <tr>\n",
       "      <th>min</th>\n",
       "      <td>470532.509000</td>\n",
       "    </tr>\n",
       "    <tr>\n",
       "      <th>25%</th>\n",
       "      <td>480818.750825</td>\n",
       "    </tr>\n",
       "    <tr>\n",
       "      <th>50%</th>\n",
       "      <td>546726.548050</td>\n",
       "    </tr>\n",
       "    <tr>\n",
       "      <th>75%</th>\n",
       "      <td>640208.012300</td>\n",
       "    </tr>\n",
       "    <tr>\n",
       "      <th>max</th>\n",
       "      <td>733215.255200</td>\n",
       "    </tr>\n",
       "  </tbody>\n",
       "</table>\n",
       "</div>"
      ],
      "text/plain": [
       "               Sales\n",
       "count       4.000000\n",
       "mean   574300.215075\n",
       "std    122949.318005\n",
       "min    470532.509000\n",
       "25%    480818.750825\n",
       "50%    546726.548050\n",
       "75%    640208.012300\n",
       "max    733215.255200"
      ]
     },
     "execution_count": 20,
     "metadata": {},
     "output_type": "execute_result"
    }
   ],
   "source": [
    "# Describing the dataset\n",
    "yearly_revenue.describe()"
   ]
  },
  {
   "cell_type": "markdown",
   "metadata": {},
   "source": [
    "_______________________________\n",
    "\n",
    "## Finding out the monthly growth rate and analyse the findings"
   ]
  },
  {
   "cell_type": "code",
   "execution_count": 21,
   "metadata": {},
   "outputs": [
    {
     "data": {
      "text/html": [
       "<div>\n",
       "<style scoped>\n",
       "    .dataframe tbody tr th:only-of-type {\n",
       "        vertical-align: middle;\n",
       "    }\n",
       "\n",
       "    .dataframe tbody tr th {\n",
       "        vertical-align: top;\n",
       "    }\n",
       "\n",
       "    .dataframe thead th {\n",
       "        text-align: right;\n",
       "    }\n",
       "</style>\n",
       "<table border=\"1\" class=\"dataframe\">\n",
       "  <thead>\n",
       "    <tr style=\"text-align: right;\">\n",
       "      <th></th>\n",
       "      <th>Sales</th>\n",
       "      <th>Monthly Growth Rate</th>\n",
       "    </tr>\n",
       "    <tr>\n",
       "      <th>month_year</th>\n",
       "      <th></th>\n",
       "      <th></th>\n",
       "    </tr>\n",
       "  </thead>\n",
       "  <tbody>\n",
       "    <tr>\n",
       "      <th>2014 : April</th>\n",
       "      <td>28295.3450</td>\n",
       "      <td>NaN</td>\n",
       "    </tr>\n",
       "    <tr>\n",
       "      <th>2014 : August</th>\n",
       "      <td>27909.4685</td>\n",
       "      <td>-1.363746</td>\n",
       "    </tr>\n",
       "    <tr>\n",
       "      <th>2014 : December</th>\n",
       "      <td>69545.6205</td>\n",
       "      <td>149.182891</td>\n",
       "    </tr>\n",
       "    <tr>\n",
       "      <th>2014 : February</th>\n",
       "      <td>4519.8920</td>\n",
       "      <td>-93.500824</td>\n",
       "    </tr>\n",
       "    <tr>\n",
       "      <th>2014 : January</th>\n",
       "      <td>14236.8950</td>\n",
       "      <td>214.983079</td>\n",
       "    </tr>\n",
       "    <tr>\n",
       "      <th>2014 : July</th>\n",
       "      <td>33946.3930</td>\n",
       "      <td>138.439583</td>\n",
       "    </tr>\n",
       "    <tr>\n",
       "      <th>2014 : June</th>\n",
       "      <td>34595.1276</td>\n",
       "      <td>1.911056</td>\n",
       "    </tr>\n",
       "    <tr>\n",
       "      <th>2014 : March</th>\n",
       "      <td>55691.0090</td>\n",
       "      <td>60.979343</td>\n",
       "    </tr>\n",
       "    <tr>\n",
       "      <th>2014 : May</th>\n",
       "      <td>23648.2870</td>\n",
       "      <td>-57.536616</td>\n",
       "    </tr>\n",
       "    <tr>\n",
       "      <th>2014 : November</th>\n",
       "      <td>78628.7167</td>\n",
       "      <td>232.492230</td>\n",
       "    </tr>\n",
       "    <tr>\n",
       "      <th>2014 : October</th>\n",
       "      <td>31453.3930</td>\n",
       "      <td>-59.997576</td>\n",
       "    </tr>\n",
       "    <tr>\n",
       "      <th>2014 : September</th>\n",
       "      <td>81777.3508</td>\n",
       "      <td>159.995323</td>\n",
       "    </tr>\n",
       "    <tr>\n",
       "      <th>2015 : April</th>\n",
       "      <td>34195.2085</td>\n",
       "      <td>-58.184989</td>\n",
       "    </tr>\n",
       "    <tr>\n",
       "      <th>2015 : August</th>\n",
       "      <td>36898.3322</td>\n",
       "      <td>7.904978</td>\n",
       "    </tr>\n",
       "    <tr>\n",
       "      <th>2015 : December</th>\n",
       "      <td>74919.5212</td>\n",
       "      <td>103.043110</td>\n",
       "    </tr>\n",
       "    <tr>\n",
       "      <th>2015 : February</th>\n",
       "      <td>11951.4110</td>\n",
       "      <td>-84.047668</td>\n",
       "    </tr>\n",
       "    <tr>\n",
       "      <th>2015 : January</th>\n",
       "      <td>18174.0756</td>\n",
       "      <td>52.066359</td>\n",
       "    </tr>\n",
       "    <tr>\n",
       "      <th>2015 : July</th>\n",
       "      <td>28765.3250</td>\n",
       "      <td>58.276688</td>\n",
       "    </tr>\n",
       "    <tr>\n",
       "      <th>2015 : June</th>\n",
       "      <td>24797.2920</td>\n",
       "      <td>-13.794501</td>\n",
       "    </tr>\n",
       "    <tr>\n",
       "      <th>2015 : March</th>\n",
       "      <td>38726.2520</td>\n",
       "      <td>56.171295</td>\n",
       "    </tr>\n",
       "    <tr>\n",
       "      <th>2015 : May</th>\n",
       "      <td>30131.6865</td>\n",
       "      <td>-22.193125</td>\n",
       "    </tr>\n",
       "    <tr>\n",
       "      <th>2015 : November</th>\n",
       "      <td>75972.5635</td>\n",
       "      <td>152.135119</td>\n",
       "    </tr>\n",
       "    <tr>\n",
       "      <th>2015 : October</th>\n",
       "      <td>31404.9235</td>\n",
       "      <td>-58.662809</td>\n",
       "    </tr>\n",
       "    <tr>\n",
       "      <th>2015 : September</th>\n",
       "      <td>64595.9180</td>\n",
       "      <td>105.687232</td>\n",
       "    </tr>\n",
       "    <tr>\n",
       "      <th>2016 : April</th>\n",
       "      <td>38750.0390</td>\n",
       "      <td>-40.011629</td>\n",
       "    </tr>\n",
       "    <tr>\n",
       "      <th>2016 : August</th>\n",
       "      <td>31115.3743</td>\n",
       "      <td>-19.702341</td>\n",
       "    </tr>\n",
       "    <tr>\n",
       "      <th>2016 : December</th>\n",
       "      <td>96999.0430</td>\n",
       "      <td>211.739920</td>\n",
       "    </tr>\n",
       "    <tr>\n",
       "      <th>2016 : February</th>\n",
       "      <td>22978.8150</td>\n",
       "      <td>-76.310266</td>\n",
       "    </tr>\n",
       "    <tr>\n",
       "      <th>2016 : January</th>\n",
       "      <td>18542.4910</td>\n",
       "      <td>-19.306148</td>\n",
       "    </tr>\n",
       "    <tr>\n",
       "      <th>2016 : July</th>\n",
       "      <td>39261.9630</td>\n",
       "      <td>111.740499</td>\n",
       "    </tr>\n",
       "    <tr>\n",
       "      <th>2016 : June</th>\n",
       "      <td>40344.5340</td>\n",
       "      <td>2.757302</td>\n",
       "    </tr>\n",
       "    <tr>\n",
       "      <th>2016 : March</th>\n",
       "      <td>51715.8750</td>\n",
       "      <td>28.185580</td>\n",
       "    </tr>\n",
       "    <tr>\n",
       "      <th>2016 : May</th>\n",
       "      <td>56987.7280</td>\n",
       "      <td>10.193878</td>\n",
       "    </tr>\n",
       "    <tr>\n",
       "      <th>2016 : November</th>\n",
       "      <td>79411.9658</td>\n",
       "      <td>39.349240</td>\n",
       "    </tr>\n",
       "    <tr>\n",
       "      <th>2016 : October</th>\n",
       "      <td>59687.7450</td>\n",
       "      <td>-24.837845</td>\n",
       "    </tr>\n",
       "    <tr>\n",
       "      <th>2016 : September</th>\n",
       "      <td>73410.0249</td>\n",
       "      <td>22.990113</td>\n",
       "    </tr>\n",
       "    <tr>\n",
       "      <th>2017 : April</th>\n",
       "      <td>36521.5361</td>\n",
       "      <td>-50.249934</td>\n",
       "    </tr>\n",
       "    <tr>\n",
       "      <th>2017 : August</th>\n",
       "      <td>63120.8880</td>\n",
       "      <td>72.831964</td>\n",
       "    </tr>\n",
       "    <tr>\n",
       "      <th>2017 : December</th>\n",
       "      <td>83829.3188</td>\n",
       "      <td>32.807572</td>\n",
       "    </tr>\n",
       "    <tr>\n",
       "      <th>2017 : February</th>\n",
       "      <td>20301.1334</td>\n",
       "      <td>-75.782777</td>\n",
       "    </tr>\n",
       "    <tr>\n",
       "      <th>2017 : January</th>\n",
       "      <td>43971.3740</td>\n",
       "      <td>116.595661</td>\n",
       "    </tr>\n",
       "    <tr>\n",
       "      <th>2017 : July</th>\n",
       "      <td>45264.4160</td>\n",
       "      <td>2.940645</td>\n",
       "    </tr>\n",
       "    <tr>\n",
       "      <th>2017 : June</th>\n",
       "      <td>52981.7257</td>\n",
       "      <td>17.049396</td>\n",
       "    </tr>\n",
       "    <tr>\n",
       "      <th>2017 : March</th>\n",
       "      <td>58872.3528</td>\n",
       "      <td>11.118224</td>\n",
       "    </tr>\n",
       "    <tr>\n",
       "      <th>2017 : May</th>\n",
       "      <td>44261.1102</td>\n",
       "      <td>-24.818513</td>\n",
       "    </tr>\n",
       "    <tr>\n",
       "      <th>2017 : November</th>\n",
       "      <td>118447.8250</td>\n",
       "      <td>167.611509</td>\n",
       "    </tr>\n",
       "    <tr>\n",
       "      <th>2017 : October</th>\n",
       "      <td>77776.9232</td>\n",
       "      <td>-34.336554</td>\n",
       "    </tr>\n",
       "    <tr>\n",
       "      <th>2017 : September</th>\n",
       "      <td>87866.6520</td>\n",
       "      <td>12.972651</td>\n",
       "    </tr>\n",
       "  </tbody>\n",
       "</table>\n",
       "</div>"
      ],
      "text/plain": [
       "                        Sales  Monthly Growth Rate\n",
       "month_year                                        \n",
       "2014 : April       28295.3450                  NaN\n",
       "2014 : August      27909.4685            -1.363746\n",
       "2014 : December    69545.6205           149.182891\n",
       "2014 : February     4519.8920           -93.500824\n",
       "2014 : January     14236.8950           214.983079\n",
       "2014 : July        33946.3930           138.439583\n",
       "2014 : June        34595.1276             1.911056\n",
       "2014 : March       55691.0090            60.979343\n",
       "2014 : May         23648.2870           -57.536616\n",
       "2014 : November    78628.7167           232.492230\n",
       "2014 : October     31453.3930           -59.997576\n",
       "2014 : September   81777.3508           159.995323\n",
       "2015 : April       34195.2085           -58.184989\n",
       "2015 : August      36898.3322             7.904978\n",
       "2015 : December    74919.5212           103.043110\n",
       "2015 : February    11951.4110           -84.047668\n",
       "2015 : January     18174.0756            52.066359\n",
       "2015 : July        28765.3250            58.276688\n",
       "2015 : June        24797.2920           -13.794501\n",
       "2015 : March       38726.2520            56.171295\n",
       "2015 : May         30131.6865           -22.193125\n",
       "2015 : November    75972.5635           152.135119\n",
       "2015 : October     31404.9235           -58.662809\n",
       "2015 : September   64595.9180           105.687232\n",
       "2016 : April       38750.0390           -40.011629\n",
       "2016 : August      31115.3743           -19.702341\n",
       "2016 : December    96999.0430           211.739920\n",
       "2016 : February    22978.8150           -76.310266\n",
       "2016 : January     18542.4910           -19.306148\n",
       "2016 : July        39261.9630           111.740499\n",
       "2016 : June        40344.5340             2.757302\n",
       "2016 : March       51715.8750            28.185580\n",
       "2016 : May         56987.7280            10.193878\n",
       "2016 : November    79411.9658            39.349240\n",
       "2016 : October     59687.7450           -24.837845\n",
       "2016 : September   73410.0249            22.990113\n",
       "2017 : April       36521.5361           -50.249934\n",
       "2017 : August      63120.8880            72.831964\n",
       "2017 : December    83829.3188            32.807572\n",
       "2017 : February    20301.1334           -75.782777\n",
       "2017 : January     43971.3740           116.595661\n",
       "2017 : July        45264.4160             2.940645\n",
       "2017 : June        52981.7257            17.049396\n",
       "2017 : March       58872.3528            11.118224\n",
       "2017 : May         44261.1102           -24.818513\n",
       "2017 : November   118447.8250           167.611509\n",
       "2017 : October     77776.9232           -34.336554\n",
       "2017 : September   87866.6520            12.972651"
      ]
     },
     "execution_count": 21,
     "metadata": {},
     "output_type": "execute_result"
    }
   ],
   "source": [
    "# Finding monthly growth rate with the formula\n",
    "mothly_revenue[\"Monthly Growth Rate\"]=(mothly_revenue['Sales']-mothly_revenue['Sales'].shift())/mothly_revenue['Sales'].shift()*100\n",
    "mothly_revenue"
   ]
  },
  {
   "cell_type": "code",
   "execution_count": 22,
   "metadata": {},
   "outputs": [
    {
     "name": "stdout",
     "output_type": "stream",
     "text": [
      "232.4922295640271\n"
     ]
    }
   ],
   "source": [
    "# Finding Maximum of the dataset\n",
    "print(np.max(mothly_revenue['Monthly Growth Rate']))"
   ]
  },
  {
   "cell_type": "code",
   "execution_count": 23,
   "metadata": {},
   "outputs": [
    {
     "data": {
      "text/html": [
       "<div>\n",
       "<style scoped>\n",
       "    .dataframe tbody tr th:only-of-type {\n",
       "        vertical-align: middle;\n",
       "    }\n",
       "\n",
       "    .dataframe tbody tr th {\n",
       "        vertical-align: top;\n",
       "    }\n",
       "\n",
       "    .dataframe thead th {\n",
       "        text-align: right;\n",
       "    }\n",
       "</style>\n",
       "<table border=\"1\" class=\"dataframe\">\n",
       "  <thead>\n",
       "    <tr style=\"text-align: right;\">\n",
       "      <th></th>\n",
       "      <th>Sales</th>\n",
       "      <th>Monthly Growth Rate</th>\n",
       "    </tr>\n",
       "    <tr>\n",
       "      <th>month_year</th>\n",
       "      <th></th>\n",
       "      <th></th>\n",
       "    </tr>\n",
       "  </thead>\n",
       "  <tbody>\n",
       "    <tr>\n",
       "      <th>2014 : November</th>\n",
       "      <td>78628.7167</td>\n",
       "      <td>232.49223</td>\n",
       "    </tr>\n",
       "  </tbody>\n",
       "</table>\n",
       "</div>"
      ],
      "text/plain": [
       "                      Sales  Monthly Growth Rate\n",
       "month_year                                      \n",
       "2014 : November  78628.7167            232.49223"
      ]
     },
     "execution_count": 23,
     "metadata": {},
     "output_type": "execute_result"
    }
   ],
   "source": [
    "# Finding the coorosponding month\n",
    "mothly_revenue.loc[mothly_revenue['Monthly Growth Rate'] == 232.4922295640271]"
   ]
  },
  {
   "cell_type": "code",
   "execution_count": 25,
   "metadata": {},
   "outputs": [
    {
     "data": {
      "text/plain": [
       "[<matplotlib.lines.Line2D at 0x225d011b1f0>,\n",
       " <matplotlib.lines.Line2D at 0x225d011b100>]"
      ]
     },
     "execution_count": 25,
     "metadata": {},
     "output_type": "execute_result"
    },
    {
     "data": {
      "image/png": "[encoded data removed]",
      "text/plain": [
       "<Figure size 432x288 with 1 Axes>"
      ]
     },
     "metadata": {},
     "output_type": "display_data"
    }
   ],
   "source": [
    "# Plotting the graph\n",
    "plt.title('Monthly Growth Rate')\n",
    "plt.xlabel('Month')\n",
    "plt.ylabel('Growth Rate')\n",
    "plt.plot(mothly_revenue)"
   ]
  },
  {
   "cell_type": "code",
   "execution_count": 26,
   "metadata": {},
   "outputs": [
    {
     "data": {
      "text/html": [
       "<div>\n",
       "<style scoped>\n",
       "    .dataframe tbody tr th:only-of-type {\n",
       "        vertical-align: middle;\n",
       "    }\n",
       "\n",
       "    .dataframe tbody tr th {\n",
       "        vertical-align: top;\n",
       "    }\n",
       "\n",
       "    .dataframe thead th {\n",
       "        text-align: right;\n",
       "    }\n",
       "</style>\n",
       "<table border=\"1\" class=\"dataframe\">\n",
       "  <thead>\n",
       "    <tr style=\"text-align: right;\">\n",
       "      <th></th>\n",
       "      <th>Sales</th>\n",
       "      <th>Monthly Growth Rate</th>\n",
       "    </tr>\n",
       "  </thead>\n",
       "  <tbody>\n",
       "    <tr>\n",
       "      <th>count</th>\n",
       "      <td>48.000000</td>\n",
       "      <td>47.000000</td>\n",
       "    </tr>\n",
       "    <tr>\n",
       "      <th>mean</th>\n",
       "      <td>47858.351256</td>\n",
       "      <td>32.755629</td>\n",
       "    </tr>\n",
       "    <tr>\n",
       "      <th>std</th>\n",
       "      <td>25195.890700</td>\n",
       "      <td>85.070021</td>\n",
       "    </tr>\n",
       "    <tr>\n",
       "      <th>min</th>\n",
       "      <td>4519.892000</td>\n",
       "      <td>-93.500824</td>\n",
       "    </tr>\n",
       "    <tr>\n",
       "      <th>25%</th>\n",
       "      <td>29790.096125</td>\n",
       "      <td>-24.828179</td>\n",
       "    </tr>\n",
       "    <tr>\n",
       "      <th>50%</th>\n",
       "      <td>39803.248500</td>\n",
       "      <td>11.118224</td>\n",
       "    </tr>\n",
       "    <tr>\n",
       "      <th>75%</th>\n",
       "      <td>65833.343625</td>\n",
       "      <td>87.937537</td>\n",
       "    </tr>\n",
       "    <tr>\n",
       "      <th>max</th>\n",
       "      <td>118447.825000</td>\n",
       "      <td>232.492230</td>\n",
       "    </tr>\n",
       "  </tbody>\n",
       "</table>\n",
       "</div>"
      ],
      "text/plain": [
       "               Sales  Monthly Growth Rate\n",
       "count      48.000000            47.000000\n",
       "mean    47858.351256            32.755629\n",
       "std     25195.890700            85.070021\n",
       "min      4519.892000           -93.500824\n",
       "25%     29790.096125           -24.828179\n",
       "50%     39803.248500            11.118224\n",
       "75%     65833.343625            87.937537\n",
       "max    118447.825000           232.492230"
      ]
     },
     "execution_count": 26,
     "metadata": {},
     "output_type": "execute_result"
    }
   ],
   "source": [
    "# Describing the dataset \n",
    "mothly_revenue.describe()"
   ]
  },
  {
   "cell_type": "markdown",
   "metadata": {},
   "source": [
    "_______________________\n",
    "\n",
    "## Finding out the most and least sold product id"
   ]
  },
  {
   "cell_type": "code",
   "execution_count": 27,
   "metadata": {},
   "outputs": [
    {
     "data": {
      "text/html": [
       "<div>\n",
       "<style scoped>\n",
       "    .dataframe tbody tr th:only-of-type {\n",
       "        vertical-align: middle;\n",
       "    }\n",
       "\n",
       "    .dataframe tbody tr th {\n",
       "        vertical-align: top;\n",
       "    }\n",
       "\n",
       "    .dataframe thead th {\n",
       "        text-align: right;\n",
       "    }\n",
       "</style>\n",
       "<table border=\"1\" class=\"dataframe\">\n",
       "  <thead>\n",
       "    <tr style=\"text-align: right;\">\n",
       "      <th></th>\n",
       "      <th>Quantity</th>\n",
       "    </tr>\n",
       "    <tr>\n",
       "      <th>Product ID</th>\n",
       "      <th></th>\n",
       "    </tr>\n",
       "  </thead>\n",
       "  <tbody>\n",
       "    <tr>\n",
       "      <th>FUR-BO-10000112</th>\n",
       "      <td>9</td>\n",
       "    </tr>\n",
       "    <tr>\n",
       "      <th>FUR-BO-10000330</th>\n",
       "      <td>10</td>\n",
       "    </tr>\n",
       "    <tr>\n",
       "      <th>FUR-BO-10000362</th>\n",
       "      <td>14</td>\n",
       "    </tr>\n",
       "    <tr>\n",
       "      <th>FUR-BO-10000468</th>\n",
       "      <td>21</td>\n",
       "    </tr>\n",
       "    <tr>\n",
       "      <th>FUR-BO-10000711</th>\n",
       "      <td>12</td>\n",
       "    </tr>\n",
       "    <tr>\n",
       "      <th>...</th>\n",
       "      <td>...</td>\n",
       "    </tr>\n",
       "    <tr>\n",
       "      <th>TEC-PH-10004912</th>\n",
       "      <td>11</td>\n",
       "    </tr>\n",
       "    <tr>\n",
       "      <th>TEC-PH-10004922</th>\n",
       "      <td>19</td>\n",
       "    </tr>\n",
       "    <tr>\n",
       "      <th>TEC-PH-10004924</th>\n",
       "      <td>8</td>\n",
       "    </tr>\n",
       "    <tr>\n",
       "      <th>TEC-PH-10004959</th>\n",
       "      <td>4</td>\n",
       "    </tr>\n",
       "    <tr>\n",
       "      <th>TEC-PH-10004977</th>\n",
       "      <td>32</td>\n",
       "    </tr>\n",
       "  </tbody>\n",
       "</table>\n",
       "<p>1862 rows × 1 columns</p>\n",
       "</div>"
      ],
      "text/plain": [
       "                 Quantity\n",
       "Product ID               \n",
       "FUR-BO-10000112         9\n",
       "FUR-BO-10000330        10\n",
       "FUR-BO-10000362        14\n",
       "FUR-BO-10000468        21\n",
       "FUR-BO-10000711        12\n",
       "...                   ...\n",
       "TEC-PH-10004912        11\n",
       "TEC-PH-10004922        19\n",
       "TEC-PH-10004924         8\n",
       "TEC-PH-10004959         4\n",
       "TEC-PH-10004977        32\n",
       "\n",
       "[1862 rows x 1 columns]"
      ]
     },
     "execution_count": 27,
     "metadata": {},
     "output_type": "execute_result"
    }
   ],
   "source": [
    "# Creating a new dataset\n",
    "product_id_df = pd.DataFrame(df.groupby(df[\"Product ID\"])[\"Quantity\"].sum())\n",
    "product_id_df"
   ]
  },
  {
   "cell_type": "code",
   "execution_count": 28,
   "metadata": {},
   "outputs": [
    {
     "name": "stdout",
     "output_type": "stream",
     "text": [
      "75\n"
     ]
    }
   ],
   "source": [
    "# Finding the most value\n",
    "print(np.max(product_id_df[\"Quantity\"]))"
   ]
  },
  {
   "cell_type": "code",
   "execution_count": 30,
   "metadata": {},
   "outputs": [
    {
     "data": {
      "text/html": [
       "<div>\n",
       "<style scoped>\n",
       "    .dataframe tbody tr th:only-of-type {\n",
       "        vertical-align: middle;\n",
       "    }\n",
       "\n",
       "    .dataframe tbody tr th {\n",
       "        vertical-align: top;\n",
       "    }\n",
       "\n",
       "    .dataframe thead th {\n",
       "        text-align: right;\n",
       "    }\n",
       "</style>\n",
       "<table border=\"1\" class=\"dataframe\">\n",
       "  <thead>\n",
       "    <tr style=\"text-align: right;\">\n",
       "      <th></th>\n",
       "      <th>Quantity</th>\n",
       "    </tr>\n",
       "    <tr>\n",
       "      <th>Product ID</th>\n",
       "      <th></th>\n",
       "    </tr>\n",
       "  </thead>\n",
       "  <tbody>\n",
       "    <tr>\n",
       "      <th>TEC-AC-10003832</th>\n",
       "      <td>75</td>\n",
       "    </tr>\n",
       "  </tbody>\n",
       "</table>\n",
       "</div>"
      ],
      "text/plain": [
       "                 Quantity\n",
       "Product ID               \n",
       "TEC-AC-10003832        75"
      ]
     },
     "execution_count": 30,
     "metadata": {},
     "output_type": "execute_result"
    }
   ],
   "source": [
    "# Finding the corrosponding value\n",
    "product_id_df.loc[product_id_df['Quantity'] == 75]"
   ]
  },
  {
   "cell_type": "markdown",
   "metadata": {},
   "source": [
    "__________________________\n",
    "\n",
    "## Finding out the customer who bought most and least from us in terms of quantity"
   ]
  },
  {
   "cell_type": "code",
   "execution_count": 31,
   "metadata": {},
   "outputs": [
    {
     "data": {
      "text/html": [
       "<div>\n",
       "<style scoped>\n",
       "    .dataframe tbody tr th:only-of-type {\n",
       "        vertical-align: middle;\n",
       "    }\n",
       "\n",
       "    .dataframe tbody tr th {\n",
       "        vertical-align: top;\n",
       "    }\n",
       "\n",
       "    .dataframe thead th {\n",
       "        text-align: right;\n",
       "    }\n",
       "</style>\n",
       "<table border=\"1\" class=\"dataframe\">\n",
       "  <thead>\n",
       "    <tr style=\"text-align: right;\">\n",
       "      <th></th>\n",
       "      <th>Quantity</th>\n",
       "    </tr>\n",
       "    <tr>\n",
       "      <th>Customer Name</th>\n",
       "      <th></th>\n",
       "    </tr>\n",
       "  </thead>\n",
       "  <tbody>\n",
       "    <tr>\n",
       "      <th>Aaron Bergman</th>\n",
       "      <td>13</td>\n",
       "    </tr>\n",
       "    <tr>\n",
       "      <th>Aaron Hawkins</th>\n",
       "      <td>54</td>\n",
       "    </tr>\n",
       "    <tr>\n",
       "      <th>Aaron Smayling</th>\n",
       "      <td>48</td>\n",
       "    </tr>\n",
       "    <tr>\n",
       "      <th>Adam Bellavance</th>\n",
       "      <td>56</td>\n",
       "    </tr>\n",
       "    <tr>\n",
       "      <th>Adam Hart</th>\n",
       "      <td>75</td>\n",
       "    </tr>\n",
       "    <tr>\n",
       "      <th>...</th>\n",
       "      <td>...</td>\n",
       "    </tr>\n",
       "    <tr>\n",
       "      <th>Xylona Preis</th>\n",
       "      <td>100</td>\n",
       "    </tr>\n",
       "    <tr>\n",
       "      <th>Yana Sorensen</th>\n",
       "      <td>58</td>\n",
       "    </tr>\n",
       "    <tr>\n",
       "      <th>Yoseph Carroll</th>\n",
       "      <td>31</td>\n",
       "    </tr>\n",
       "    <tr>\n",
       "      <th>Zuschuss Carroll</th>\n",
       "      <td>105</td>\n",
       "    </tr>\n",
       "    <tr>\n",
       "      <th>Zuschuss Donatelli</th>\n",
       "      <td>32</td>\n",
       "    </tr>\n",
       "  </tbody>\n",
       "</table>\n",
       "<p>793 rows × 1 columns</p>\n",
       "</div>"
      ],
      "text/plain": [
       "                    Quantity\n",
       "Customer Name               \n",
       "Aaron Bergman             13\n",
       "Aaron Hawkins             54\n",
       "Aaron Smayling            48\n",
       "Adam Bellavance           56\n",
       "Adam Hart                 75\n",
       "...                      ...\n",
       "Xylona Preis             100\n",
       "Yana Sorensen             58\n",
       "Yoseph Carroll            31\n",
       "Zuschuss Carroll         105\n",
       "Zuschuss Donatelli        32\n",
       "\n",
       "[793 rows x 1 columns]"
      ]
     },
     "execution_count": 31,
     "metadata": {},
     "output_type": "execute_result"
    }
   ],
   "source": [
    "# Creating a dataset\n",
    "customer_name_df = pd.DataFrame(df.groupby(df[\"Customer Name\"])[\"Quantity\"].sum())\n",
    "customer_name_df"
   ]
  },
  {
   "cell_type": "code",
   "execution_count": 32,
   "metadata": {},
   "outputs": [
    {
     "name": "stdout",
     "output_type": "stream",
     "text": [
      "150\n"
     ]
    }
   ],
   "source": [
    "# Finding the max value\n",
    "print(np.max(customer_name_df[\"Quantity\"]))"
   ]
  },
  {
   "cell_type": "code",
   "execution_count": 33,
   "metadata": {},
   "outputs": [
    {
     "data": {
      "text/html": [
       "<div>\n",
       "<style scoped>\n",
       "    .dataframe tbody tr th:only-of-type {\n",
       "        vertical-align: middle;\n",
       "    }\n",
       "\n",
       "    .dataframe tbody tr th {\n",
       "        vertical-align: top;\n",
       "    }\n",
       "\n",
       "    .dataframe thead th {\n",
       "        text-align: right;\n",
       "    }\n",
       "</style>\n",
       "<table border=\"1\" class=\"dataframe\">\n",
       "  <thead>\n",
       "    <tr style=\"text-align: right;\">\n",
       "      <th></th>\n",
       "      <th>Quantity</th>\n",
       "    </tr>\n",
       "    <tr>\n",
       "      <th>Customer Name</th>\n",
       "      <th></th>\n",
       "    </tr>\n",
       "  </thead>\n",
       "  <tbody>\n",
       "    <tr>\n",
       "      <th>Jonathan Doherty</th>\n",
       "      <td>150</td>\n",
       "    </tr>\n",
       "  </tbody>\n",
       "</table>\n",
       "</div>"
      ],
      "text/plain": [
       "                  Quantity\n",
       "Customer Name             \n",
       "Jonathan Doherty       150"
      ]
     },
     "execution_count": 33,
     "metadata": {},
     "output_type": "execute_result"
    }
   ],
   "source": [
    "customer_name_df.loc[customer_name_df['Quantity'] == 150]"
   ]
  },
  {
   "cell_type": "markdown",
   "metadata": {},
   "source": [
    "________________________________\n",
    "\n",
    "## Finding out the customer who bought most and least from us in terms of value"
   ]
  },
  {
   "cell_type": "code",
   "execution_count": 34,
   "metadata": {},
   "outputs": [
    {
     "data": {
      "text/html": [
       "<div>\n",
       "<style scoped>\n",
       "    .dataframe tbody tr th:only-of-type {\n",
       "        vertical-align: middle;\n",
       "    }\n",
       "\n",
       "    .dataframe tbody tr th {\n",
       "        vertical-align: top;\n",
       "    }\n",
       "\n",
       "    .dataframe thead th {\n",
       "        text-align: right;\n",
       "    }\n",
       "</style>\n",
       "<table border=\"1\" class=\"dataframe\">\n",
       "  <thead>\n",
       "    <tr style=\"text-align: right;\">\n",
       "      <th></th>\n",
       "      <th>Sales</th>\n",
       "    </tr>\n",
       "    <tr>\n",
       "      <th>Customer Name</th>\n",
       "      <th></th>\n",
       "    </tr>\n",
       "  </thead>\n",
       "  <tbody>\n",
       "    <tr>\n",
       "      <th>Aaron Bergman</th>\n",
       "      <td>886.156</td>\n",
       "    </tr>\n",
       "    <tr>\n",
       "      <th>Aaron Hawkins</th>\n",
       "      <td>1744.700</td>\n",
       "    </tr>\n",
       "    <tr>\n",
       "      <th>Aaron Smayling</th>\n",
       "      <td>3050.692</td>\n",
       "    </tr>\n",
       "    <tr>\n",
       "      <th>Adam Bellavance</th>\n",
       "      <td>7755.620</td>\n",
       "    </tr>\n",
       "    <tr>\n",
       "      <th>Adam Hart</th>\n",
       "      <td>3250.337</td>\n",
       "    </tr>\n",
       "    <tr>\n",
       "      <th>...</th>\n",
       "      <td>...</td>\n",
       "    </tr>\n",
       "    <tr>\n",
       "      <th>Xylona Preis</th>\n",
       "      <td>2374.658</td>\n",
       "    </tr>\n",
       "    <tr>\n",
       "      <th>Yana Sorensen</th>\n",
       "      <td>6720.444</td>\n",
       "    </tr>\n",
       "    <tr>\n",
       "      <th>Yoseph Carroll</th>\n",
       "      <td>5454.350</td>\n",
       "    </tr>\n",
       "    <tr>\n",
       "      <th>Zuschuss Carroll</th>\n",
       "      <td>8025.707</td>\n",
       "    </tr>\n",
       "    <tr>\n",
       "      <th>Zuschuss Donatelli</th>\n",
       "      <td>1493.944</td>\n",
       "    </tr>\n",
       "  </tbody>\n",
       "</table>\n",
       "<p>793 rows × 1 columns</p>\n",
       "</div>"
      ],
      "text/plain": [
       "                       Sales\n",
       "Customer Name               \n",
       "Aaron Bergman        886.156\n",
       "Aaron Hawkins       1744.700\n",
       "Aaron Smayling      3050.692\n",
       "Adam Bellavance     7755.620\n",
       "Adam Hart           3250.337\n",
       "...                      ...\n",
       "Xylona Preis        2374.658\n",
       "Yana Sorensen       6720.444\n",
       "Yoseph Carroll      5454.350\n",
       "Zuschuss Carroll    8025.707\n",
       "Zuschuss Donatelli  1493.944\n",
       "\n",
       "[793 rows x 1 columns]"
      ]
     },
     "execution_count": 34,
     "metadata": {},
     "output_type": "execute_result"
    }
   ],
   "source": [
    "# Creating dataset\n",
    "customer_by_value = pd.DataFrame(df.groupby(df[\"Customer Name\"])[\"Sales\"].sum())\n",
    "customer_by_value"
   ]
  },
  {
   "cell_type": "code",
   "execution_count": 35,
   "metadata": {},
   "outputs": [
    {
     "name": "stdout",
     "output_type": "stream",
     "text": [
      "25043.05\n"
     ]
    }
   ],
   "source": [
    "# Finding max value\n",
    "print(np.max(customer_by_value[\"Sales\"]))"
   ]
  },
  {
   "cell_type": "code",
   "execution_count": 36,
   "metadata": {},
   "outputs": [
    {
     "data": {
      "text/html": [
       "<div>\n",
       "<style scoped>\n",
       "    .dataframe tbody tr th:only-of-type {\n",
       "        vertical-align: middle;\n",
       "    }\n",
       "\n",
       "    .dataframe tbody tr th {\n",
       "        vertical-align: top;\n",
       "    }\n",
       "\n",
       "    .dataframe thead th {\n",
       "        text-align: right;\n",
       "    }\n",
       "</style>\n",
       "<table border=\"1\" class=\"dataframe\">\n",
       "  <thead>\n",
       "    <tr style=\"text-align: right;\">\n",
       "      <th></th>\n",
       "      <th>Sales</th>\n",
       "    </tr>\n",
       "    <tr>\n",
       "      <th>Customer Name</th>\n",
       "      <th></th>\n",
       "    </tr>\n",
       "  </thead>\n",
       "  <tbody>\n",
       "    <tr>\n",
       "      <th>Sean Miller</th>\n",
       "      <td>25043.05</td>\n",
       "    </tr>\n",
       "  </tbody>\n",
       "</table>\n",
       "</div>"
      ],
      "text/plain": [
       "                  Sales\n",
       "Customer Name          \n",
       "Sean Miller    25043.05"
      ]
     },
     "execution_count": 36,
     "metadata": {},
     "output_type": "execute_result"
    }
   ],
   "source": [
    "# Finding the value corrosponding to above value\n",
    "customer_by_value.loc[customer_by_value['Sales'] == 25043.05]"
   ]
  },
  {
   "cell_type": "markdown",
   "metadata": {},
   "source": [
    "________________\n",
    "\n",
    "## Finding out the majority and minority customer cities on basis of "
   ]
  },
  {
   "cell_type": "markdown",
   "metadata": {},
   "source": [
    "### Number of customers"
   ]
  },
  {
   "cell_type": "code",
   "execution_count": 37,
   "metadata": {},
   "outputs": [
    {
     "data": {
      "text/html": [
       "<div>\n",
       "<style scoped>\n",
       "    .dataframe tbody tr th:only-of-type {\n",
       "        vertical-align: middle;\n",
       "    }\n",
       "\n",
       "    .dataframe tbody tr th {\n",
       "        vertical-align: top;\n",
       "    }\n",
       "\n",
       "    .dataframe thead th {\n",
       "        text-align: right;\n",
       "    }\n",
       "</style>\n",
       "<table border=\"1\" class=\"dataframe\">\n",
       "  <thead>\n",
       "    <tr style=\"text-align: right;\">\n",
       "      <th></th>\n",
       "      <th>Customer Count</th>\n",
       "    </tr>\n",
       "    <tr>\n",
       "      <th>City</th>\n",
       "      <th></th>\n",
       "    </tr>\n",
       "  </thead>\n",
       "  <tbody>\n",
       "    <tr>\n",
       "      <th>Aberdeen</th>\n",
       "      <td>1</td>\n",
       "    </tr>\n",
       "    <tr>\n",
       "      <th>Abilene</th>\n",
       "      <td>1</td>\n",
       "    </tr>\n",
       "    <tr>\n",
       "      <th>Akron</th>\n",
       "      <td>21</td>\n",
       "    </tr>\n",
       "    <tr>\n",
       "      <th>Albuquerque</th>\n",
       "      <td>14</td>\n",
       "    </tr>\n",
       "    <tr>\n",
       "      <th>Alexandria</th>\n",
       "      <td>16</td>\n",
       "    </tr>\n",
       "    <tr>\n",
       "      <th>...</th>\n",
       "      <td>...</td>\n",
       "    </tr>\n",
       "    <tr>\n",
       "      <th>Woonsocket</th>\n",
       "      <td>4</td>\n",
       "    </tr>\n",
       "    <tr>\n",
       "      <th>Yonkers</th>\n",
       "      <td>15</td>\n",
       "    </tr>\n",
       "    <tr>\n",
       "      <th>York</th>\n",
       "      <td>5</td>\n",
       "    </tr>\n",
       "    <tr>\n",
       "      <th>Yucaipa</th>\n",
       "      <td>1</td>\n",
       "    </tr>\n",
       "    <tr>\n",
       "      <th>Yuma</th>\n",
       "      <td>4</td>\n",
       "    </tr>\n",
       "  </tbody>\n",
       "</table>\n",
       "<p>531 rows × 1 columns</p>\n",
       "</div>"
      ],
      "text/plain": [
       "             Customer Count\n",
       "City                       \n",
       "Aberdeen                  1\n",
       "Abilene                   1\n",
       "Akron                    21\n",
       "Albuquerque              14\n",
       "Alexandria               16\n",
       "...                     ...\n",
       "Woonsocket                4\n",
       "Yonkers                  15\n",
       "York                      5\n",
       "Yucaipa                   1\n",
       "Yuma                      4\n",
       "\n",
       "[531 rows x 1 columns]"
      ]
     },
     "execution_count": 37,
     "metadata": {},
     "output_type": "execute_result"
    }
   ],
   "source": [
    "# Creating the dataframe by counting the customer\n",
    "city_customer_group=df.groupby(\"City\").count()['Customer Name']\n",
    "city_customer_group = pd.DataFrame(city_customer_group)\n",
    "city_customer_group['Customer Count'] = city_customer_group['Customer Name']\n",
    "city_customer_group.drop('Customer Name',  axis='columns', inplace=True)\n",
    "city_customer_group"
   ]
  },
  {
   "cell_type": "code",
   "execution_count": 38,
   "metadata": {},
   "outputs": [
    {
     "name": "stdout",
     "output_type": "stream",
     "text": [
      "915\n"
     ]
    }
   ],
   "source": [
    "# Finding max value\n",
    "print(np.max(city_customer_group[\"Customer Count\"]))"
   ]
  },
  {
   "cell_type": "code",
   "execution_count": 39,
   "metadata": {},
   "outputs": [
    {
     "data": {
      "text/html": [
       "<div>\n",
       "<style scoped>\n",
       "    .dataframe tbody tr th:only-of-type {\n",
       "        vertical-align: middle;\n",
       "    }\n",
       "\n",
       "    .dataframe tbody tr th {\n",
       "        vertical-align: top;\n",
       "    }\n",
       "\n",
       "    .dataframe thead th {\n",
       "        text-align: right;\n",
       "    }\n",
       "</style>\n",
       "<table border=\"1\" class=\"dataframe\">\n",
       "  <thead>\n",
       "    <tr style=\"text-align: right;\">\n",
       "      <th></th>\n",
       "      <th>Customer Count</th>\n",
       "    </tr>\n",
       "    <tr>\n",
       "      <th>City</th>\n",
       "      <th></th>\n",
       "    </tr>\n",
       "  </thead>\n",
       "  <tbody>\n",
       "    <tr>\n",
       "      <th>New York City</th>\n",
       "      <td>915</td>\n",
       "    </tr>\n",
       "  </tbody>\n",
       "</table>\n",
       "</div>"
      ],
      "text/plain": [
       "               Customer Count\n",
       "City                         \n",
       "New York City             915"
      ]
     },
     "execution_count": 39,
     "metadata": {},
     "output_type": "execute_result"
    }
   ],
   "source": [
    "# Finding the value corrosponding to above value\n",
    "city_customer_group.loc[city_customer_group['Customer Count'] == 915]"
   ]
  },
  {
   "cell_type": "code",
   "execution_count": 40,
   "metadata": {},
   "outputs": [
    {
     "name": "stdout",
     "output_type": "stream",
     "text": [
      "1\n"
     ]
    }
   ],
   "source": [
    "# Finding max value\n",
    "print(np.min(city_customer_group[\"Customer Count\"]))"
   ]
  },
  {
   "cell_type": "code",
   "execution_count": 41,
   "metadata": {},
   "outputs": [
    {
     "data": {
      "text/html": [
       "<div>\n",
       "<style scoped>\n",
       "    .dataframe tbody tr th:only-of-type {\n",
       "        vertical-align: middle;\n",
       "    }\n",
       "\n",
       "    .dataframe tbody tr th {\n",
       "        vertical-align: top;\n",
       "    }\n",
       "\n",
       "    .dataframe thead th {\n",
       "        text-align: right;\n",
       "    }\n",
       "</style>\n",
       "<table border=\"1\" class=\"dataframe\">\n",
       "  <thead>\n",
       "    <tr style=\"text-align: right;\">\n",
       "      <th></th>\n",
       "      <th>Customer Count</th>\n",
       "    </tr>\n",
       "    <tr>\n",
       "      <th>City</th>\n",
       "      <th></th>\n",
       "    </tr>\n",
       "  </thead>\n",
       "  <tbody>\n",
       "    <tr>\n",
       "      <th>Aberdeen</th>\n",
       "      <td>1</td>\n",
       "    </tr>\n",
       "    <tr>\n",
       "      <th>Abilene</th>\n",
       "      <td>1</td>\n",
       "    </tr>\n",
       "    <tr>\n",
       "      <th>Antioch</th>\n",
       "      <td>1</td>\n",
       "    </tr>\n",
       "    <tr>\n",
       "      <th>Arlington Heights</th>\n",
       "      <td>1</td>\n",
       "    </tr>\n",
       "    <tr>\n",
       "      <th>Atlantic City</th>\n",
       "      <td>1</td>\n",
       "    </tr>\n",
       "    <tr>\n",
       "      <th>...</th>\n",
       "      <td>...</td>\n",
       "    </tr>\n",
       "    <tr>\n",
       "      <th>Vacaville</th>\n",
       "      <td>1</td>\n",
       "    </tr>\n",
       "    <tr>\n",
       "      <th>Waterloo</th>\n",
       "      <td>1</td>\n",
       "    </tr>\n",
       "    <tr>\n",
       "      <th>Waukesha</th>\n",
       "      <td>1</td>\n",
       "    </tr>\n",
       "    <tr>\n",
       "      <th>Whittier</th>\n",
       "      <td>1</td>\n",
       "    </tr>\n",
       "    <tr>\n",
       "      <th>Yucaipa</th>\n",
       "      <td>1</td>\n",
       "    </tr>\n",
       "  </tbody>\n",
       "</table>\n",
       "<p>70 rows × 1 columns</p>\n",
       "</div>"
      ],
      "text/plain": [
       "                   Customer Count\n",
       "City                             \n",
       "Aberdeen                        1\n",
       "Abilene                         1\n",
       "Antioch                         1\n",
       "Arlington Heights               1\n",
       "Atlantic City                   1\n",
       "...                           ...\n",
       "Vacaville                       1\n",
       "Waterloo                        1\n",
       "Waukesha                        1\n",
       "Whittier                        1\n",
       "Yucaipa                         1\n",
       "\n",
       "[70 rows x 1 columns]"
      ]
     },
     "execution_count": 41,
     "metadata": {},
     "output_type": "execute_result"
    }
   ],
   "source": [
    "# Finding the value corrosponding to above value\n",
    "city_customer_group.loc[city_customer_group['Customer Count'] == 1]"
   ]
  },
  {
   "cell_type": "markdown",
   "metadata": {},
   "source": [
    "### Sales "
   ]
  },
  {
   "cell_type": "code",
   "execution_count": 42,
   "metadata": {},
   "outputs": [
    {
     "data": {
      "text/html": [
       "<div>\n",
       "<style scoped>\n",
       "    .dataframe tbody tr th:only-of-type {\n",
       "        vertical-align: middle;\n",
       "    }\n",
       "\n",
       "    .dataframe tbody tr th {\n",
       "        vertical-align: top;\n",
       "    }\n",
       "\n",
       "    .dataframe thead th {\n",
       "        text-align: right;\n",
       "    }\n",
       "</style>\n",
       "<table border=\"1\" class=\"dataframe\">\n",
       "  <thead>\n",
       "    <tr style=\"text-align: right;\">\n",
       "      <th></th>\n",
       "      <th>Sales</th>\n",
       "    </tr>\n",
       "    <tr>\n",
       "      <th>City</th>\n",
       "      <th></th>\n",
       "    </tr>\n",
       "  </thead>\n",
       "  <tbody>\n",
       "    <tr>\n",
       "      <th>Aberdeen</th>\n",
       "      <td>25.500</td>\n",
       "    </tr>\n",
       "    <tr>\n",
       "      <th>Abilene</th>\n",
       "      <td>1.392</td>\n",
       "    </tr>\n",
       "    <tr>\n",
       "      <th>Akron</th>\n",
       "      <td>2729.986</td>\n",
       "    </tr>\n",
       "    <tr>\n",
       "      <th>Albuquerque</th>\n",
       "      <td>2220.160</td>\n",
       "    </tr>\n",
       "    <tr>\n",
       "      <th>Alexandria</th>\n",
       "      <td>5519.570</td>\n",
       "    </tr>\n",
       "    <tr>\n",
       "      <th>...</th>\n",
       "      <td>...</td>\n",
       "    </tr>\n",
       "    <tr>\n",
       "      <th>Woonsocket</th>\n",
       "      <td>195.550</td>\n",
       "    </tr>\n",
       "    <tr>\n",
       "      <th>Yonkers</th>\n",
       "      <td>7657.666</td>\n",
       "    </tr>\n",
       "    <tr>\n",
       "      <th>York</th>\n",
       "      <td>817.978</td>\n",
       "    </tr>\n",
       "    <tr>\n",
       "      <th>Yucaipa</th>\n",
       "      <td>50.800</td>\n",
       "    </tr>\n",
       "    <tr>\n",
       "      <th>Yuma</th>\n",
       "      <td>840.865</td>\n",
       "    </tr>\n",
       "  </tbody>\n",
       "</table>\n",
       "<p>531 rows × 1 columns</p>\n",
       "</div>"
      ],
      "text/plain": [
       "                Sales\n",
       "City                 \n",
       "Aberdeen       25.500\n",
       "Abilene         1.392\n",
       "Akron        2729.986\n",
       "Albuquerque  2220.160\n",
       "Alexandria   5519.570\n",
       "...               ...\n",
       "Woonsocket    195.550\n",
       "Yonkers      7657.666\n",
       "York          817.978\n",
       "Yucaipa        50.800\n",
       "Yuma          840.865\n",
       "\n",
       "[531 rows x 1 columns]"
      ]
     },
     "execution_count": 42,
     "metadata": {},
     "output_type": "execute_result"
    }
   ],
   "source": [
    "# Creating dataframe\n",
    "city_by_sale = pd.DataFrame(df.groupby(df[\"City\"])[\"Sales\"].sum())\n",
    "city_by_sale"
   ]
  },
  {
   "cell_type": "code",
   "execution_count": 43,
   "metadata": {},
   "outputs": [
    {
     "name": "stdout",
     "output_type": "stream",
     "text": [
      "256368.161\n"
     ]
    }
   ],
   "source": [
    "# Finding max value\n",
    "print(np.max(city_by_sale[\"Sales\"]))"
   ]
  },
  {
   "cell_type": "code",
   "execution_count": 44,
   "metadata": {},
   "outputs": [
    {
     "data": {
      "text/html": [
       "<div>\n",
       "<style scoped>\n",
       "    .dataframe tbody tr th:only-of-type {\n",
       "        vertical-align: middle;\n",
       "    }\n",
       "\n",
       "    .dataframe tbody tr th {\n",
       "        vertical-align: top;\n",
       "    }\n",
       "\n",
       "    .dataframe thead th {\n",
       "        text-align: right;\n",
       "    }\n",
       "</style>\n",
       "<table border=\"1\" class=\"dataframe\">\n",
       "  <thead>\n",
       "    <tr style=\"text-align: right;\">\n",
       "      <th></th>\n",
       "      <th>Sales</th>\n",
       "    </tr>\n",
       "    <tr>\n",
       "      <th>City</th>\n",
       "      <th></th>\n",
       "    </tr>\n",
       "  </thead>\n",
       "  <tbody>\n",
       "    <tr>\n",
       "      <th>New York City</th>\n",
       "      <td>256368.161</td>\n",
       "    </tr>\n",
       "  </tbody>\n",
       "</table>\n",
       "</div>"
      ],
      "text/plain": [
       "                    Sales\n",
       "City                     \n",
       "New York City  256368.161"
      ]
     },
     "execution_count": 44,
     "metadata": {},
     "output_type": "execute_result"
    }
   ],
   "source": [
    "# Finding the value corrosponding to above value\n",
    "city_by_sale.loc[city_by_sale['Sales'] == 256368.161]"
   ]
  },
  {
   "cell_type": "code",
   "execution_count": 45,
   "metadata": {},
   "outputs": [
    {
     "name": "stdout",
     "output_type": "stream",
     "text": [
      "1.3919999999999997\n"
     ]
    }
   ],
   "source": [
    "# Finding min value\n",
    "print(np.min(city_by_sale[\"Sales\"]))"
   ]
  },
  {
   "cell_type": "code",
   "execution_count": 46,
   "metadata": {},
   "outputs": [
    {
     "data": {
      "text/html": [
       "<div>\n",
       "<style scoped>\n",
       "    .dataframe tbody tr th:only-of-type {\n",
       "        vertical-align: middle;\n",
       "    }\n",
       "\n",
       "    .dataframe tbody tr th {\n",
       "        vertical-align: top;\n",
       "    }\n",
       "\n",
       "    .dataframe thead th {\n",
       "        text-align: right;\n",
       "    }\n",
       "</style>\n",
       "<table border=\"1\" class=\"dataframe\">\n",
       "  <thead>\n",
       "    <tr style=\"text-align: right;\">\n",
       "      <th></th>\n",
       "      <th>Sales</th>\n",
       "    </tr>\n",
       "    <tr>\n",
       "      <th>City</th>\n",
       "      <th></th>\n",
       "    </tr>\n",
       "  </thead>\n",
       "  <tbody>\n",
       "    <tr>\n",
       "      <th>Abilene</th>\n",
       "      <td>1.392</td>\n",
       "    </tr>\n",
       "  </tbody>\n",
       "</table>\n",
       "</div>"
      ],
      "text/plain": [
       "         Sales\n",
       "City          \n",
       "Abilene  1.392"
      ]
     },
     "execution_count": 46,
     "metadata": {},
     "output_type": "execute_result"
    }
   ],
   "source": [
    "# Finding the value corrosponding to above value\n",
    "city_by_sale.loc[city_by_sale['Sales'] == 1.3919999999999997]"
   ]
  },
  {
   "cell_type": "markdown",
   "metadata": {},
   "source": [
    "### Number of Quantity Sold"
   ]
  },
  {
   "cell_type": "code",
   "execution_count": 47,
   "metadata": {},
   "outputs": [
    {
     "data": {
      "text/html": [
       "<div>\n",
       "<style scoped>\n",
       "    .dataframe tbody tr th:only-of-type {\n",
       "        vertical-align: middle;\n",
       "    }\n",
       "\n",
       "    .dataframe tbody tr th {\n",
       "        vertical-align: top;\n",
       "    }\n",
       "\n",
       "    .dataframe thead th {\n",
       "        text-align: right;\n",
       "    }\n",
       "</style>\n",
       "<table border=\"1\" class=\"dataframe\">\n",
       "  <thead>\n",
       "    <tr style=\"text-align: right;\">\n",
       "      <th></th>\n",
       "      <th>Quantity</th>\n",
       "    </tr>\n",
       "    <tr>\n",
       "      <th>City</th>\n",
       "      <th></th>\n",
       "    </tr>\n",
       "  </thead>\n",
       "  <tbody>\n",
       "    <tr>\n",
       "      <th>Aberdeen</th>\n",
       "      <td>3</td>\n",
       "    </tr>\n",
       "    <tr>\n",
       "      <th>Abilene</th>\n",
       "      <td>2</td>\n",
       "    </tr>\n",
       "    <tr>\n",
       "      <th>Akron</th>\n",
       "      <td>65</td>\n",
       "    </tr>\n",
       "    <tr>\n",
       "      <th>Albuquerque</th>\n",
       "      <td>65</td>\n",
       "    </tr>\n",
       "    <tr>\n",
       "      <th>Alexandria</th>\n",
       "      <td>84</td>\n",
       "    </tr>\n",
       "    <tr>\n",
       "      <th>...</th>\n",
       "      <td>...</td>\n",
       "    </tr>\n",
       "    <tr>\n",
       "      <th>Woonsocket</th>\n",
       "      <td>15</td>\n",
       "    </tr>\n",
       "    <tr>\n",
       "      <th>Yonkers</th>\n",
       "      <td>57</td>\n",
       "    </tr>\n",
       "    <tr>\n",
       "      <th>York</th>\n",
       "      <td>19</td>\n",
       "    </tr>\n",
       "    <tr>\n",
       "      <th>Yucaipa</th>\n",
       "      <td>5</td>\n",
       "    </tr>\n",
       "    <tr>\n",
       "      <th>Yuma</th>\n",
       "      <td>22</td>\n",
       "    </tr>\n",
       "  </tbody>\n",
       "</table>\n",
       "<p>531 rows × 1 columns</p>\n",
       "</div>"
      ],
      "text/plain": [
       "             Quantity\n",
       "City                 \n",
       "Aberdeen            3\n",
       "Abilene             2\n",
       "Akron              65\n",
       "Albuquerque        65\n",
       "Alexandria         84\n",
       "...               ...\n",
       "Woonsocket         15\n",
       "Yonkers            57\n",
       "York               19\n",
       "Yucaipa             5\n",
       "Yuma               22\n",
       "\n",
       "[531 rows x 1 columns]"
      ]
     },
     "execution_count": 47,
     "metadata": {},
     "output_type": "execute_result"
    }
   ],
   "source": [
    "# Creating dataframe\n",
    "city_by_quantity = pd.DataFrame(df.groupby(df[\"City\"])[\"Quantity\"].sum())\n",
    "city_by_quantity"
   ]
  },
  {
   "cell_type": "code",
   "execution_count": 48,
   "metadata": {},
   "outputs": [
    {
     "name": "stdout",
     "output_type": "stream",
     "text": [
      "3417\n"
     ]
    }
   ],
   "source": [
    "# Finding max value\n",
    "print(np.max(city_by_quantity[\"Quantity\"]))"
   ]
  },
  {
   "cell_type": "code",
   "execution_count": 49,
   "metadata": {},
   "outputs": [
    {
     "data": {
      "text/html": [
       "<div>\n",
       "<style scoped>\n",
       "    .dataframe tbody tr th:only-of-type {\n",
       "        vertical-align: middle;\n",
       "    }\n",
       "\n",
       "    .dataframe tbody tr th {\n",
       "        vertical-align: top;\n",
       "    }\n",
       "\n",
       "    .dataframe thead th {\n",
       "        text-align: right;\n",
       "    }\n",
       "</style>\n",
       "<table border=\"1\" class=\"dataframe\">\n",
       "  <thead>\n",
       "    <tr style=\"text-align: right;\">\n",
       "      <th></th>\n",
       "      <th>Quantity</th>\n",
       "    </tr>\n",
       "    <tr>\n",
       "      <th>City</th>\n",
       "      <th></th>\n",
       "    </tr>\n",
       "  </thead>\n",
       "  <tbody>\n",
       "    <tr>\n",
       "      <th>New York City</th>\n",
       "      <td>3417</td>\n",
       "    </tr>\n",
       "  </tbody>\n",
       "</table>\n",
       "</div>"
      ],
      "text/plain": [
       "               Quantity\n",
       "City                   \n",
       "New York City      3417"
      ]
     },
     "execution_count": 49,
     "metadata": {},
     "output_type": "execute_result"
    }
   ],
   "source": [
    "# Finding the value corrosponding to above value\n",
    "city_by_quantity.loc[city_by_quantity['Quantity'] == 3417]"
   ]
  },
  {
   "cell_type": "code",
   "execution_count": 50,
   "metadata": {},
   "outputs": [
    {
     "name": "stdout",
     "output_type": "stream",
     "text": [
      "1\n"
     ]
    }
   ],
   "source": [
    "# Finding min value\n",
    "print(np.min(city_by_quantity[\"Quantity\"]))"
   ]
  },
  {
   "cell_type": "code",
   "execution_count": 51,
   "metadata": {},
   "outputs": [
    {
     "data": {
      "text/html": [
       "<div>\n",
       "<style scoped>\n",
       "    .dataframe tbody tr th:only-of-type {\n",
       "        vertical-align: middle;\n",
       "    }\n",
       "\n",
       "    .dataframe tbody tr th {\n",
       "        vertical-align: top;\n",
       "    }\n",
       "\n",
       "    .dataframe thead th {\n",
       "        text-align: right;\n",
       "    }\n",
       "</style>\n",
       "<table border=\"1\" class=\"dataframe\">\n",
       "  <thead>\n",
       "    <tr style=\"text-align: right;\">\n",
       "      <th></th>\n",
       "      <th>Quantity</th>\n",
       "    </tr>\n",
       "    <tr>\n",
       "      <th>City</th>\n",
       "      <th></th>\n",
       "    </tr>\n",
       "  </thead>\n",
       "  <tbody>\n",
       "    <tr>\n",
       "      <th>Elyria</th>\n",
       "      <td>1</td>\n",
       "    </tr>\n",
       "    <tr>\n",
       "      <th>Iowa City</th>\n",
       "      <td>1</td>\n",
       "    </tr>\n",
       "    <tr>\n",
       "      <th>Jupiter</th>\n",
       "      <td>1</td>\n",
       "    </tr>\n",
       "    <tr>\n",
       "      <th>Lindenhurst</th>\n",
       "      <td>1</td>\n",
       "    </tr>\n",
       "    <tr>\n",
       "      <th>Littleton</th>\n",
       "      <td>1</td>\n",
       "    </tr>\n",
       "    <tr>\n",
       "      <th>Port Orange</th>\n",
       "      <td>1</td>\n",
       "    </tr>\n",
       "  </tbody>\n",
       "</table>\n",
       "</div>"
      ],
      "text/plain": [
       "             Quantity\n",
       "City                 \n",
       "Elyria              1\n",
       "Iowa City           1\n",
       "Jupiter             1\n",
       "Lindenhurst         1\n",
       "Littleton           1\n",
       "Port Orange         1"
      ]
     },
     "execution_count": 51,
     "metadata": {},
     "output_type": "execute_result"
    }
   ],
   "source": [
    "# Finding the value corrosponding to above value\n",
    "city_by_quantity.loc[city_by_quantity['Quantity'] == 1]"
   ]
  },
  {
   "cell_type": "markdown",
   "metadata": {},
   "source": [
    "________________________\n",
    "\n",
    "## Find out the most and least sold product category from the store"
   ]
  },
  {
   "cell_type": "markdown",
   "metadata": {},
   "source": [
    "## Quantity based"
   ]
  },
  {
   "cell_type": "code",
   "execution_count": 52,
   "metadata": {},
   "outputs": [
    {
     "data": {
      "text/html": [
       "<div>\n",
       "<style scoped>\n",
       "    .dataframe tbody tr th:only-of-type {\n",
       "        vertical-align: middle;\n",
       "    }\n",
       "\n",
       "    .dataframe tbody tr th {\n",
       "        vertical-align: top;\n",
       "    }\n",
       "\n",
       "    .dataframe thead th {\n",
       "        text-align: right;\n",
       "    }\n",
       "</style>\n",
       "<table border=\"1\" class=\"dataframe\">\n",
       "  <thead>\n",
       "    <tr style=\"text-align: right;\">\n",
       "      <th></th>\n",
       "      <th>Quantity</th>\n",
       "    </tr>\n",
       "    <tr>\n",
       "      <th>Category</th>\n",
       "      <th></th>\n",
       "    </tr>\n",
       "  </thead>\n",
       "  <tbody>\n",
       "    <tr>\n",
       "      <th>Furniture</th>\n",
       "      <td>8028</td>\n",
       "    </tr>\n",
       "    <tr>\n",
       "      <th>Office Supplies</th>\n",
       "      <td>22906</td>\n",
       "    </tr>\n",
       "    <tr>\n",
       "      <th>Technology</th>\n",
       "      <td>6939</td>\n",
       "    </tr>\n",
       "  </tbody>\n",
       "</table>\n",
       "</div>"
      ],
      "text/plain": [
       "                 Quantity\n",
       "Category                 \n",
       "Furniture            8028\n",
       "Office Supplies     22906\n",
       "Technology           6939"
      ]
     },
     "execution_count": 52,
     "metadata": {},
     "output_type": "execute_result"
    }
   ],
   "source": [
    "# Creating the dataframe\n",
    "product_category_by_quantity = pd.DataFrame(df.groupby(df[\"Category\"])[\"Quantity\"].sum())\n",
    "product_category_by_quantity"
   ]
  },
  {
   "cell_type": "code",
   "execution_count": 53,
   "metadata": {},
   "outputs": [
    {
     "name": "stdout",
     "output_type": "stream",
     "text": [
      "22906\n"
     ]
    }
   ],
   "source": [
    "# Finding min value\n",
    "print(np.max(product_category_by_quantity[\"Quantity\"]))"
   ]
  },
  {
   "cell_type": "code",
   "execution_count": 54,
   "metadata": {},
   "outputs": [
    {
     "data": {
      "text/html": [
       "<div>\n",
       "<style scoped>\n",
       "    .dataframe tbody tr th:only-of-type {\n",
       "        vertical-align: middle;\n",
       "    }\n",
       "\n",
       "    .dataframe tbody tr th {\n",
       "        vertical-align: top;\n",
       "    }\n",
       "\n",
       "    .dataframe thead th {\n",
       "        text-align: right;\n",
       "    }\n",
       "</style>\n",
       "<table border=\"1\" class=\"dataframe\">\n",
       "  <thead>\n",
       "    <tr style=\"text-align: right;\">\n",
       "      <th></th>\n",
       "      <th>Quantity</th>\n",
       "    </tr>\n",
       "    <tr>\n",
       "      <th>Category</th>\n",
       "      <th></th>\n",
       "    </tr>\n",
       "  </thead>\n",
       "  <tbody>\n",
       "    <tr>\n",
       "      <th>Office Supplies</th>\n",
       "      <td>22906</td>\n",
       "    </tr>\n",
       "  </tbody>\n",
       "</table>\n",
       "</div>"
      ],
      "text/plain": [
       "                 Quantity\n",
       "Category                 \n",
       "Office Supplies     22906"
      ]
     },
     "execution_count": 54,
     "metadata": {},
     "output_type": "execute_result"
    }
   ],
   "source": [
    "# Finding the value corrosponding to above value\n",
    "product_category_by_quantity.loc[product_category_by_quantity['Quantity'] == 22906]"
   ]
  },
  {
   "cell_type": "code",
   "execution_count": 55,
   "metadata": {},
   "outputs": [
    {
     "name": "stdout",
     "output_type": "stream",
     "text": [
      "6939\n"
     ]
    }
   ],
   "source": [
    "# Finding min value\n",
    "print(np.min(product_category_by_quantity[\"Quantity\"]))"
   ]
  },
  {
   "cell_type": "code",
   "execution_count": 56,
   "metadata": {},
   "outputs": [
    {
     "data": {
      "text/html": [
       "<div>\n",
       "<style scoped>\n",
       "    .dataframe tbody tr th:only-of-type {\n",
       "        vertical-align: middle;\n",
       "    }\n",
       "\n",
       "    .dataframe tbody tr th {\n",
       "        vertical-align: top;\n",
       "    }\n",
       "\n",
       "    .dataframe thead th {\n",
       "        text-align: right;\n",
       "    }\n",
       "</style>\n",
       "<table border=\"1\" class=\"dataframe\">\n",
       "  <thead>\n",
       "    <tr style=\"text-align: right;\">\n",
       "      <th></th>\n",
       "      <th>Quantity</th>\n",
       "    </tr>\n",
       "    <tr>\n",
       "      <th>Category</th>\n",
       "      <th></th>\n",
       "    </tr>\n",
       "  </thead>\n",
       "  <tbody>\n",
       "    <tr>\n",
       "      <th>Technology</th>\n",
       "      <td>6939</td>\n",
       "    </tr>\n",
       "  </tbody>\n",
       "</table>\n",
       "</div>"
      ],
      "text/plain": [
       "            Quantity\n",
       "Category            \n",
       "Technology      6939"
      ]
     },
     "execution_count": 56,
     "metadata": {},
     "output_type": "execute_result"
    }
   ],
   "source": [
    "# Finding the value corrosponding to above value\n",
    "product_category_by_quantity.loc[product_category_by_quantity['Quantity'] == 6939]"
   ]
  },
  {
   "cell_type": "markdown",
   "metadata": {},
   "source": [
    "## Value based"
   ]
  },
  {
   "cell_type": "code",
   "execution_count": 57,
   "metadata": {},
   "outputs": [
    {
     "data": {
      "text/html": [
       "<div>\n",
       "<style scoped>\n",
       "    .dataframe tbody tr th:only-of-type {\n",
       "        vertical-align: middle;\n",
       "    }\n",
       "\n",
       "    .dataframe tbody tr th {\n",
       "        vertical-align: top;\n",
       "    }\n",
       "\n",
       "    .dataframe thead th {\n",
       "        text-align: right;\n",
       "    }\n",
       "</style>\n",
       "<table border=\"1\" class=\"dataframe\">\n",
       "  <thead>\n",
       "    <tr style=\"text-align: right;\">\n",
       "      <th></th>\n",
       "      <th>Sales</th>\n",
       "    </tr>\n",
       "    <tr>\n",
       "      <th>Category</th>\n",
       "      <th></th>\n",
       "    </tr>\n",
       "  </thead>\n",
       "  <tbody>\n",
       "    <tr>\n",
       "      <th>Furniture</th>\n",
       "      <td>741999.7953</td>\n",
       "    </tr>\n",
       "    <tr>\n",
       "      <th>Office Supplies</th>\n",
       "      <td>719047.0320</td>\n",
       "    </tr>\n",
       "    <tr>\n",
       "      <th>Technology</th>\n",
       "      <td>836154.0330</td>\n",
       "    </tr>\n",
       "  </tbody>\n",
       "</table>\n",
       "</div>"
      ],
      "text/plain": [
       "                       Sales\n",
       "Category                    \n",
       "Furniture        741999.7953\n",
       "Office Supplies  719047.0320\n",
       "Technology       836154.0330"
      ]
     },
     "execution_count": 57,
     "metadata": {},
     "output_type": "execute_result"
    }
   ],
   "source": [
    "# Creating Dataframe\n",
    "product_category_by_value = pd.DataFrame(df.groupby(df[\"Category\"])[\"Sales\"].sum())\n",
    "product_category_by_value"
   ]
  },
  {
   "cell_type": "code",
   "execution_count": 58,
   "metadata": {},
   "outputs": [
    {
     "name": "stdout",
     "output_type": "stream",
     "text": [
      "836154.0329999966\n"
     ]
    }
   ],
   "source": [
    "# Finding max value\n",
    "print(np.max(product_category_by_value[\"Sales\"]))"
   ]
  },
  {
   "cell_type": "code",
   "execution_count": 59,
   "metadata": {},
   "outputs": [
    {
     "data": {
      "text/html": [
       "<div>\n",
       "<style scoped>\n",
       "    .dataframe tbody tr th:only-of-type {\n",
       "        vertical-align: middle;\n",
       "    }\n",
       "\n",
       "    .dataframe tbody tr th {\n",
       "        vertical-align: top;\n",
       "    }\n",
       "\n",
       "    .dataframe thead th {\n",
       "        text-align: right;\n",
       "    }\n",
       "</style>\n",
       "<table border=\"1\" class=\"dataframe\">\n",
       "  <thead>\n",
       "    <tr style=\"text-align: right;\">\n",
       "      <th></th>\n",
       "      <th>Sales</th>\n",
       "    </tr>\n",
       "    <tr>\n",
       "      <th>Category</th>\n",
       "      <th></th>\n",
       "    </tr>\n",
       "  </thead>\n",
       "  <tbody>\n",
       "    <tr>\n",
       "      <th>Technology</th>\n",
       "      <td>836154.033</td>\n",
       "    </tr>\n",
       "  </tbody>\n",
       "</table>\n",
       "</div>"
      ],
      "text/plain": [
       "                 Sales\n",
       "Category              \n",
       "Technology  836154.033"
      ]
     },
     "execution_count": 59,
     "metadata": {},
     "output_type": "execute_result"
    }
   ],
   "source": [
    "# Finding the value corrosponding to above value\n",
    "product_category_by_value.loc[product_category_by_value['Sales'] == 836154.0329999966]"
   ]
  },
  {
   "cell_type": "code",
   "execution_count": 60,
   "metadata": {},
   "outputs": [
    {
     "name": "stdout",
     "output_type": "stream",
     "text": [
      "719047.0320000029\n"
     ]
    }
   ],
   "source": [
    "# Finding min value\n",
    "print(np.min(product_category_by_value[\"Sales\"]))"
   ]
  },
  {
   "cell_type": "code",
   "execution_count": 61,
   "metadata": {},
   "outputs": [
    {
     "data": {
      "text/html": [
       "<div>\n",
       "<style scoped>\n",
       "    .dataframe tbody tr th:only-of-type {\n",
       "        vertical-align: middle;\n",
       "    }\n",
       "\n",
       "    .dataframe tbody tr th {\n",
       "        vertical-align: top;\n",
       "    }\n",
       "\n",
       "    .dataframe thead th {\n",
       "        text-align: right;\n",
       "    }\n",
       "</style>\n",
       "<table border=\"1\" class=\"dataframe\">\n",
       "  <thead>\n",
       "    <tr style=\"text-align: right;\">\n",
       "      <th></th>\n",
       "      <th>Sales</th>\n",
       "    </tr>\n",
       "    <tr>\n",
       "      <th>Category</th>\n",
       "      <th></th>\n",
       "    </tr>\n",
       "  </thead>\n",
       "  <tbody>\n",
       "    <tr>\n",
       "      <th>Office Supplies</th>\n",
       "      <td>719047.032</td>\n",
       "    </tr>\n",
       "  </tbody>\n",
       "</table>\n",
       "</div>"
      ],
      "text/plain": [
       "                      Sales\n",
       "Category                   \n",
       "Office Supplies  719047.032"
      ]
     },
     "execution_count": 61,
     "metadata": {},
     "output_type": "execute_result"
    }
   ],
   "source": [
    "# Finding the value corrosponding to above value\n",
    "product_category_by_value.loc[product_category_by_value['Sales'] == 719047.0320000029]"
   ]
  },
  {
   "cell_type": "markdown",
   "metadata": {},
   "source": [
    "______________________________________\n",
    "\n",
    "## Find out the most and least sold product sub category from the store"
   ]
  },
  {
   "cell_type": "markdown",
   "metadata": {},
   "source": [
    "### By Quantity"
   ]
  },
  {
   "cell_type": "code",
   "execution_count": 62,
   "metadata": {},
   "outputs": [
    {
     "data": {
      "text/html": [
       "<div>\n",
       "<style scoped>\n",
       "    .dataframe tbody tr th:only-of-type {\n",
       "        vertical-align: middle;\n",
       "    }\n",
       "\n",
       "    .dataframe tbody tr th {\n",
       "        vertical-align: top;\n",
       "    }\n",
       "\n",
       "    .dataframe thead th {\n",
       "        text-align: right;\n",
       "    }\n",
       "</style>\n",
       "<table border=\"1\" class=\"dataframe\">\n",
       "  <thead>\n",
       "    <tr style=\"text-align: right;\">\n",
       "      <th></th>\n",
       "      <th>Quantity</th>\n",
       "    </tr>\n",
       "    <tr>\n",
       "      <th>Sub-Category</th>\n",
       "      <th></th>\n",
       "    </tr>\n",
       "  </thead>\n",
       "  <tbody>\n",
       "    <tr>\n",
       "      <th>Accessories</th>\n",
       "      <td>2976</td>\n",
       "    </tr>\n",
       "    <tr>\n",
       "      <th>Appliances</th>\n",
       "      <td>1729</td>\n",
       "    </tr>\n",
       "    <tr>\n",
       "      <th>Art</th>\n",
       "      <td>3000</td>\n",
       "    </tr>\n",
       "    <tr>\n",
       "      <th>Binders</th>\n",
       "      <td>5974</td>\n",
       "    </tr>\n",
       "    <tr>\n",
       "      <th>Bookcases</th>\n",
       "      <td>868</td>\n",
       "    </tr>\n",
       "    <tr>\n",
       "      <th>Chairs</th>\n",
       "      <td>2356</td>\n",
       "    </tr>\n",
       "    <tr>\n",
       "      <th>Copiers</th>\n",
       "      <td>234</td>\n",
       "    </tr>\n",
       "    <tr>\n",
       "      <th>Envelopes</th>\n",
       "      <td>906</td>\n",
       "    </tr>\n",
       "    <tr>\n",
       "      <th>Fasteners</th>\n",
       "      <td>914</td>\n",
       "    </tr>\n",
       "    <tr>\n",
       "      <th>Furnishings</th>\n",
       "      <td>3563</td>\n",
       "    </tr>\n",
       "    <tr>\n",
       "      <th>Labels</th>\n",
       "      <td>1400</td>\n",
       "    </tr>\n",
       "    <tr>\n",
       "      <th>Machines</th>\n",
       "      <td>440</td>\n",
       "    </tr>\n",
       "    <tr>\n",
       "      <th>Paper</th>\n",
       "      <td>5178</td>\n",
       "    </tr>\n",
       "    <tr>\n",
       "      <th>Phones</th>\n",
       "      <td>3289</td>\n",
       "    </tr>\n",
       "    <tr>\n",
       "      <th>Storage</th>\n",
       "      <td>3158</td>\n",
       "    </tr>\n",
       "    <tr>\n",
       "      <th>Supplies</th>\n",
       "      <td>647</td>\n",
       "    </tr>\n",
       "    <tr>\n",
       "      <th>Tables</th>\n",
       "      <td>1241</td>\n",
       "    </tr>\n",
       "  </tbody>\n",
       "</table>\n",
       "</div>"
      ],
      "text/plain": [
       "              Quantity\n",
       "Sub-Category          \n",
       "Accessories       2976\n",
       "Appliances        1729\n",
       "Art               3000\n",
       "Binders           5974\n",
       "Bookcases          868\n",
       "Chairs            2356\n",
       "Copiers            234\n",
       "Envelopes          906\n",
       "Fasteners          914\n",
       "Furnishings       3563\n",
       "Labels            1400\n",
       "Machines           440\n",
       "Paper             5178\n",
       "Phones            3289\n",
       "Storage           3158\n",
       "Supplies           647\n",
       "Tables            1241"
      ]
     },
     "execution_count": 62,
     "metadata": {},
     "output_type": "execute_result"
    }
   ],
   "source": [
    "# Creating Dataframe\n",
    "subcat_by_quantity = pd.DataFrame(df.groupby(df[\"Sub-Category\"])[\"Quantity\"].sum())\n",
    "subcat_by_quantity"
   ]
  },
  {
   "cell_type": "code",
   "execution_count": 63,
   "metadata": {},
   "outputs": [
    {
     "name": "stdout",
     "output_type": "stream",
     "text": [
      "5974\n"
     ]
    }
   ],
   "source": [
    "# Finding max value\n",
    "print(np.max(subcat_by_quantity[\"Quantity\"]))"
   ]
  },
  {
   "cell_type": "code",
   "execution_count": 64,
   "metadata": {},
   "outputs": [
    {
     "data": {
      "text/html": [
       "<div>\n",
       "<style scoped>\n",
       "    .dataframe tbody tr th:only-of-type {\n",
       "        vertical-align: middle;\n",
       "    }\n",
       "\n",
       "    .dataframe tbody tr th {\n",
       "        vertical-align: top;\n",
       "    }\n",
       "\n",
       "    .dataframe thead th {\n",
       "        text-align: right;\n",
       "    }\n",
       "</style>\n",
       "<table border=\"1\" class=\"dataframe\">\n",
       "  <thead>\n",
       "    <tr style=\"text-align: right;\">\n",
       "      <th></th>\n",
       "      <th>Quantity</th>\n",
       "    </tr>\n",
       "    <tr>\n",
       "      <th>Sub-Category</th>\n",
       "      <th></th>\n",
       "    </tr>\n",
       "  </thead>\n",
       "  <tbody>\n",
       "    <tr>\n",
       "      <th>Binders</th>\n",
       "      <td>5974</td>\n",
       "    </tr>\n",
       "  </tbody>\n",
       "</table>\n",
       "</div>"
      ],
      "text/plain": [
       "              Quantity\n",
       "Sub-Category          \n",
       "Binders           5974"
      ]
     },
     "execution_count": 64,
     "metadata": {},
     "output_type": "execute_result"
    }
   ],
   "source": [
    "# Finding the value corrosponding to above value\n",
    "subcat_by_quantity.loc[subcat_by_quantity['Quantity'] == 5974]"
   ]
  },
  {
   "cell_type": "code",
   "execution_count": 65,
   "metadata": {},
   "outputs": [
    {
     "name": "stdout",
     "output_type": "stream",
     "text": [
      "234\n"
     ]
    }
   ],
   "source": [
    "# Finding min value\n",
    "print(np.min(subcat_by_quantity[\"Quantity\"]))"
   ]
  },
  {
   "cell_type": "code",
   "execution_count": 66,
   "metadata": {},
   "outputs": [
    {
     "data": {
      "text/html": [
       "<div>\n",
       "<style scoped>\n",
       "    .dataframe tbody tr th:only-of-type {\n",
       "        vertical-align: middle;\n",
       "    }\n",
       "\n",
       "    .dataframe tbody tr th {\n",
       "        vertical-align: top;\n",
       "    }\n",
       "\n",
       "    .dataframe thead th {\n",
       "        text-align: right;\n",
       "    }\n",
       "</style>\n",
       "<table border=\"1\" class=\"dataframe\">\n",
       "  <thead>\n",
       "    <tr style=\"text-align: right;\">\n",
       "      <th></th>\n",
       "      <th>Quantity</th>\n",
       "    </tr>\n",
       "    <tr>\n",
       "      <th>Sub-Category</th>\n",
       "      <th></th>\n",
       "    </tr>\n",
       "  </thead>\n",
       "  <tbody>\n",
       "    <tr>\n",
       "      <th>Copiers</th>\n",
       "      <td>234</td>\n",
       "    </tr>\n",
       "  </tbody>\n",
       "</table>\n",
       "</div>"
      ],
      "text/plain": [
       "              Quantity\n",
       "Sub-Category          \n",
       "Copiers            234"
      ]
     },
     "execution_count": 66,
     "metadata": {},
     "output_type": "execute_result"
    }
   ],
   "source": [
    "# Finding the value corrosponding to above value\n",
    "subcat_by_quantity.loc[subcat_by_quantity['Quantity'] == 234]"
   ]
  },
  {
   "cell_type": "markdown",
   "metadata": {},
   "source": [
    "### By Value"
   ]
  },
  {
   "cell_type": "code",
   "execution_count": 67,
   "metadata": {},
   "outputs": [
    {
     "data": {
      "text/html": [
       "<div>\n",
       "<style scoped>\n",
       "    .dataframe tbody tr th:only-of-type {\n",
       "        vertical-align: middle;\n",
       "    }\n",
       "\n",
       "    .dataframe tbody tr th {\n",
       "        vertical-align: top;\n",
       "    }\n",
       "\n",
       "    .dataframe thead th {\n",
       "        text-align: right;\n",
       "    }\n",
       "</style>\n",
       "<table border=\"1\" class=\"dataframe\">\n",
       "  <thead>\n",
       "    <tr style=\"text-align: right;\">\n",
       "      <th></th>\n",
       "      <th>Sales</th>\n",
       "    </tr>\n",
       "    <tr>\n",
       "      <th>Sub-Category</th>\n",
       "      <th></th>\n",
       "    </tr>\n",
       "  </thead>\n",
       "  <tbody>\n",
       "    <tr>\n",
       "      <th>Accessories</th>\n",
       "      <td>167380.3180</td>\n",
       "    </tr>\n",
       "    <tr>\n",
       "      <th>Appliances</th>\n",
       "      <td>107532.1610</td>\n",
       "    </tr>\n",
       "    <tr>\n",
       "      <th>Art</th>\n",
       "      <td>27118.7920</td>\n",
       "    </tr>\n",
       "    <tr>\n",
       "      <th>Binders</th>\n",
       "      <td>203412.7330</td>\n",
       "    </tr>\n",
       "    <tr>\n",
       "      <th>Bookcases</th>\n",
       "      <td>114879.9963</td>\n",
       "    </tr>\n",
       "    <tr>\n",
       "      <th>Chairs</th>\n",
       "      <td>328449.1030</td>\n",
       "    </tr>\n",
       "    <tr>\n",
       "      <th>Copiers</th>\n",
       "      <td>149528.0300</td>\n",
       "    </tr>\n",
       "    <tr>\n",
       "      <th>Envelopes</th>\n",
       "      <td>16476.4020</td>\n",
       "    </tr>\n",
       "    <tr>\n",
       "      <th>Fasteners</th>\n",
       "      <td>3024.2800</td>\n",
       "    </tr>\n",
       "    <tr>\n",
       "      <th>Furnishings</th>\n",
       "      <td>91705.1640</td>\n",
       "    </tr>\n",
       "    <tr>\n",
       "      <th>Labels</th>\n",
       "      <td>12486.3120</td>\n",
       "    </tr>\n",
       "    <tr>\n",
       "      <th>Machines</th>\n",
       "      <td>189238.6310</td>\n",
       "    </tr>\n",
       "    <tr>\n",
       "      <th>Paper</th>\n",
       "      <td>78479.2060</td>\n",
       "    </tr>\n",
       "    <tr>\n",
       "      <th>Phones</th>\n",
       "      <td>330007.0540</td>\n",
       "    </tr>\n",
       "    <tr>\n",
       "      <th>Storage</th>\n",
       "      <td>223843.6080</td>\n",
       "    </tr>\n",
       "    <tr>\n",
       "      <th>Supplies</th>\n",
       "      <td>46673.5380</td>\n",
       "    </tr>\n",
       "    <tr>\n",
       "      <th>Tables</th>\n",
       "      <td>206965.5320</td>\n",
       "    </tr>\n",
       "  </tbody>\n",
       "</table>\n",
       "</div>"
      ],
      "text/plain": [
       "                    Sales\n",
       "Sub-Category             \n",
       "Accessories   167380.3180\n",
       "Appliances    107532.1610\n",
       "Art            27118.7920\n",
       "Binders       203412.7330\n",
       "Bookcases     114879.9963\n",
       "Chairs        328449.1030\n",
       "Copiers       149528.0300\n",
       "Envelopes      16476.4020\n",
       "Fasteners       3024.2800\n",
       "Furnishings    91705.1640\n",
       "Labels         12486.3120\n",
       "Machines      189238.6310\n",
       "Paper          78479.2060\n",
       "Phones        330007.0540\n",
       "Storage       223843.6080\n",
       "Supplies       46673.5380\n",
       "Tables        206965.5320"
      ]
     },
     "execution_count": 67,
     "metadata": {},
     "output_type": "execute_result"
    }
   ],
   "source": [
    "# Creating Dataframe\n",
    "subcat_by_value = pd.DataFrame(df.groupby(df[\"Sub-Category\"])[\"Sales\"].sum())\n",
    "subcat_by_value"
   ]
  },
  {
   "cell_type": "code",
   "execution_count": 68,
   "metadata": {},
   "outputs": [
    {
     "name": "stdout",
     "output_type": "stream",
     "text": [
      "330007.0540000001\n"
     ]
    }
   ],
   "source": [
    "# Finding max value\n",
    "print(np.max(subcat_by_value[\"Sales\"]))"
   ]
  },
  {
   "cell_type": "code",
   "execution_count": 69,
   "metadata": {},
   "outputs": [
    {
     "data": {
      "text/html": [
       "<div>\n",
       "<style scoped>\n",
       "    .dataframe tbody tr th:only-of-type {\n",
       "        vertical-align: middle;\n",
       "    }\n",
       "\n",
       "    .dataframe tbody tr th {\n",
       "        vertical-align: top;\n",
       "    }\n",
       "\n",
       "    .dataframe thead th {\n",
       "        text-align: right;\n",
       "    }\n",
       "</style>\n",
       "<table border=\"1\" class=\"dataframe\">\n",
       "  <thead>\n",
       "    <tr style=\"text-align: right;\">\n",
       "      <th></th>\n",
       "      <th>Sales</th>\n",
       "    </tr>\n",
       "    <tr>\n",
       "      <th>Sub-Category</th>\n",
       "      <th></th>\n",
       "    </tr>\n",
       "  </thead>\n",
       "  <tbody>\n",
       "    <tr>\n",
       "      <th>Phones</th>\n",
       "      <td>330007.054</td>\n",
       "    </tr>\n",
       "  </tbody>\n",
       "</table>\n",
       "</div>"
      ],
      "text/plain": [
       "                   Sales\n",
       "Sub-Category            \n",
       "Phones        330007.054"
      ]
     },
     "execution_count": 69,
     "metadata": {},
     "output_type": "execute_result"
    }
   ],
   "source": [
    "# Finding the value corrosponding to above value\n",
    "subcat_by_value.loc[subcat_by_value['Sales'] == 330007.0540000001]"
   ]
  },
  {
   "cell_type": "code",
   "execution_count": 70,
   "metadata": {},
   "outputs": [
    {
     "name": "stdout",
     "output_type": "stream",
     "text": [
      "3024.2799999999997\n"
     ]
    }
   ],
   "source": [
    "# Finding min value\n",
    "print(np.min(subcat_by_value[\"Sales\"]))"
   ]
  },
  {
   "cell_type": "code",
   "execution_count": 71,
   "metadata": {},
   "outputs": [
    {
     "data": {
      "text/html": [
       "<div>\n",
       "<style scoped>\n",
       "    .dataframe tbody tr th:only-of-type {\n",
       "        vertical-align: middle;\n",
       "    }\n",
       "\n",
       "    .dataframe tbody tr th {\n",
       "        vertical-align: top;\n",
       "    }\n",
       "\n",
       "    .dataframe thead th {\n",
       "        text-align: right;\n",
       "    }\n",
       "</style>\n",
       "<table border=\"1\" class=\"dataframe\">\n",
       "  <thead>\n",
       "    <tr style=\"text-align: right;\">\n",
       "      <th></th>\n",
       "      <th>Sales</th>\n",
       "    </tr>\n",
       "    <tr>\n",
       "      <th>Sub-Category</th>\n",
       "      <th></th>\n",
       "    </tr>\n",
       "  </thead>\n",
       "  <tbody>\n",
       "    <tr>\n",
       "      <th>Fasteners</th>\n",
       "      <td>3024.28</td>\n",
       "    </tr>\n",
       "  </tbody>\n",
       "</table>\n",
       "</div>"
      ],
      "text/plain": [
       "                Sales\n",
       "Sub-Category         \n",
       "Fasteners     3024.28"
      ]
     },
     "execution_count": 71,
     "metadata": {},
     "output_type": "execute_result"
    }
   ],
   "source": [
    "# Finding the value corrosponding to above value\n",
    "subcat_by_value.loc[subcat_by_value['Sales'] == 3024.2799999999997]"
   ]
  },
  {
   "cell_type": "markdown",
   "metadata": {},
   "source": [
    "<hr>"
   ]
  }
 ],
 "metadata": {
  "kernelspec": {
   "display_name": "Python 3",
   "language": "python",
   "name": "python3"
  },
  "language_info": {
   "codemirror_mode": {
    "name": "ipython",
    "version": 3
   },
   "file_extension": ".py",
   "mimetype": "text/x-python",
   "name": "python",
   "nbconvert_exporter": "python",
   "pygments_lexer": "ipython3",
   "version": "3.8.0"
  }
 },
 "nbformat": 4,
 "nbformat_minor": 4
}
